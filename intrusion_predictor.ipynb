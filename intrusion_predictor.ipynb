{
 "cells": [
  {
   "cell_type": "markdown",
   "metadata": {},
   "source": [
    "# Network Intrusion Detector\n",
    "### CSc 180, Sect. 01 (Spring 2021)\n",
    "### Lucas Saechao, Noah Venethongkham, Ashley Thor\n",
    "### 03/12/2021"
   ]
  },
  {
   "cell_type": "markdown",
   "metadata": {},
   "source": [
    "# Abstract\n",
    "Software that protects computer networks from unauthorized intrusion or access provide real, universal value to individuals and enterprises across the world. This type of software is known as an Intrusion Detection System (IDS), and is intended to monitor a network for malicious activity. The advent and explosion of machine learning models, and software in the last decade provide opportunities to develop new techniques in order to determine good or bad actors in a system. \n",
    "\n",
    "This project aims to build a Network IDS (NIDS) using machine learning, by providing an accurate, predictive model that can distinguish bad connections, intrusions, or attacks, from genuine, well-intentioned network connections.\n",
    "\n",
    "This model is trained using the KDD Cup 1999 Dataset."
   ]
  },
  {
   "cell_type": "markdown",
   "metadata": {},
   "source": [
    "# Import Libraries"
   ]
  },
  {
   "cell_type": "code",
   "execution_count": 2,
   "metadata": {},
   "outputs": [],
   "source": [
    "# matplotlib\n",
    "%matplotlib inline\n",
    "from matplotlib.pyplot import figure, show\n",
    "import matplotlib.pyplot as plt\n",
    "\n",
    "# numpy and pandas\n",
    "import numpy as np\n",
    "import pandas as pd\n",
    "\n",
    "# scikit learn\n",
    "from sklearn import preprocessing\n",
    "from sklearn import metrics\n",
    "from sklearn.model_selection import train_test_split\n",
    "from sklearn.metrics import classification_report, confusion_matrix, roc_curve, auc\n",
    "from sklearn.preprocessing import LabelEncoder\n",
    "from sklearn.utils import column_or_1d\n",
    "import sklearn.feature_extraction.text as sk_text\n",
    "\n",
    "# tensorflow and keras\n",
    "from tensorflow.keras import optimizers, regularizers\n",
    "from tensorflow.keras.models import Sequential\n",
    "from tensorflow.keras.callbacks import EarlyStopping, ModelCheckpoint\n",
    "from tensorflow.keras.layers import Dense, Activation, Flatten, Dropout, Conv2D, MaxPooling2D\n",
    "import tensorflow as tf\n",
    "import tensorflow.keras\n",
    "\n",
    "# python libraries\n",
    "import requests\n",
    "import shutil\n",
    "import json\n",
    "import time\n",
    "import csv\n",
    "import io\n",
    "import os\n",
    "\n",
    "# if OS is windows, import chime\n",
    "if os.name == 'nt':\n",
    "    import winsound\n",
    "\n",
    "read = './data/'\n",
    "write = './weights/'\n",
    "\n",
    "path = os.path.join(read, 'nid.csv')\n",
    "weights = os.path.join(write, \"weights.hdf5\")"
   ]
  },
  {
   "cell_type": "markdown",
   "metadata": {},
   "source": [
    "# Helper Functions"
   ]
  },
  {
   "cell_type": "code",
   "execution_count": 3,
   "metadata": {},
   "outputs": [],
   "source": [
    "# Plots a confusion matrix for the model\n",
    "def plot_confusion_matrix(conf_matrix, title='Confusion Matrix', cmap=plt.cm.Blues):\n",
    "    plt.imshow(conf_matrix, interpolation='nearest', cmap=cmap)\n",
    "    plt.title(title)\n",
    "    plt.colorbar()\n",
    "    tick_marks = np.arrange(len(names))\n",
    "    plt.xticks(tick_marks, names, rotation=45)\n",
    "    plt.yticks(tick_marks, names)\n",
    "    plt.tight_layout()\n",
    "    plt.ylabel('True label')\n",
    "    plt.xlabel('Predicted label')\n",
    "    \n",
    "# Plot an ROC curve\n",
    "def plot_roc(pred, y):\n",
    "    fpr, tpr, thresholds = roc_curve(y, pred)\n",
    "    roc_area_under_curve = auc(fpr, tpr)\n",
    "    \n",
    "    plt.figure()\n",
    "    plt.plot(fpr, tpr, label='ROC curve (area = $0.2f)' % roc_area_under_curve)\n",
    "    plt.plot([0, 1], [0, 1], 'k--')\n",
    "    plt.xlim([0.0, 1.0])\n",
    "    plt.ylim([0.0, 1.05])\n",
    "    plt.xlabel('False Positive Rate')\n",
    "    plt.ylabel('True Positive Rate')\n",
    "    plt.title('Receiver Operating Characteristic (ROC)')\n",
    "    plt.legend(loc=\"lower right\")\n",
    "    plt.show\n",
    "    \n",
    "# Encodes text values into numerical variables\n",
    "def encode_text_dummy(df, name):\n",
    "    dummies = pd.get_dummies(df[name])\n",
    "    for i in dummies.columns:\n",
    "        dummy_name = \"{}-{}\".format(name, i)\n",
    "        df[dummy_name] = dummies[i]\n",
    "    df.drop(name, axis=1, inplace=True)\n",
    "    \n",
    "# Normalizes numerical values into a z-score\n",
    "def encode_numeric_zscore(df, name, mean=None, sd=None):\n",
    "    if mean is None:\n",
    "        mean = df[name].mean()\n",
    "    if sd is None:\n",
    "        sd = df[name].std()\n",
    "    df[name] = (df[name] - mean) / sd\n",
    "    \n",
    "# For formatting time\n",
    "def hms_string(sec_elapsed):\n",
    "    h = int(sec_elapsed / (60 * 60))\n",
    "    m = int((sec_elapsed % (60 * 60)) / 60)\n",
    "    s = sec_elapsed % 60\n",
    "    return \"{}:{:>02}:{:>05.2f}\".format(h, m, s)\n",
    "    \n",
    "# Beep if on a windows machine\n",
    "if os.name == 'nt':\n",
    "    def ding():\n",
    "        winsound.Beep(2000, 300)\n",
    "        winsound.Beep(2000, 300)\n",
    "        winsound.Beep(2000, 300)"
   ]
  },
  {
   "cell_type": "markdown",
   "metadata": {},
   "source": [
    "# Preprocessing Data Functions\n",
    "Because this is to be treated as a binary classification problem, we will only care about normal outcomes compared to attacks - the data currently has several discrete attack types, so the following label encoder will provide it in normal and not-normal terms"
   ]
  },
  {
   "cell_type": "code",
   "execution_count": 4,
   "metadata": {},
   "outputs": [],
   "source": [
    "def make_binary(input_str):\n",
    "    out = 0 if input_str == 'normal.' else 1\n",
    "    return out"
   ]
  },
  {
   "cell_type": "markdown",
   "metadata": {},
   "source": [
    "# Import Data"
   ]
  },
  {
   "cell_type": "code",
   "execution_count": 9,
   "metadata": {},
   "outputs": [],
   "source": [
    "df_csv = pd.read_csv(path, encoding='utf-8')\n",
    "df_csv.columns = [\n",
    "    'duration',\n",
    "    'protocol_type',\n",
    "    'service',\n",
    "    'flag',\n",
    "    'src_bytes',\n",
    "    'dst_bytes',\n",
    "    'land',\n",
    "    'wrong_fragment',\n",
    "    'urgent',\n",
    "    'hot',\n",
    "    'num_failed_logins',\n",
    "    'logged_in',\n",
    "    'num_compromised',\n",
    "    'root_shell',\n",
    "    'su_attempted',\n",
    "    'num_root',\n",
    "    'num_file_creations',\n",
    "    'num_shells',\n",
    "    'num_access_files',\n",
    "    'num_outbound_cmds',\n",
    "    'is_host_login',\n",
    "    'is_guest_login',\n",
    "    'count',\n",
    "    'srv_count',\n",
    "    'serror_rate',\n",
    "    'srv_serror_rate',\n",
    "    'rerror_rate',\n",
    "    'srv_rerror_rate',\n",
    "    'same_srv_rate',\n",
    "    'diff_srv_rate',\n",
    "    'srv_diff_host_rate',\n",
    "    'dst_host_count',\n",
    "    'dst_host_srv_count',\n",
    "    'dst_host_same_srv_rate',\n",
    "    'dst_host_diff_srv_rate',\n",
    "    'dst_host_same_src_port_rate',\n",
    "    'dst_host_srv_diff_host_rate',\n",
    "    'dst_host_serror_rate',\n",
    "    'dst_host_srv_serror_rate',\n",
    "    'dst_host_rerror_rate',\n",
    "    'dst_host_srv_rerror_rate',\n",
    "    'outcome'\n",
    "]"
   ]
  },
  {
   "cell_type": "code",
   "execution_count": 10,
   "metadata": {},
   "outputs": [
    {
     "output_type": "execute_result",
     "data": {
      "text/plain": [
       "        duration protocol_type service flag  src_bytes  dst_bytes  land  \\\n",
       "0              0           tcp    http   SF        239        486     0   \n",
       "1              0           tcp    http   SF        235       1337     0   \n",
       "2              0           tcp    http   SF        219       1337     0   \n",
       "3              0           tcp    http   SF        217       2032     0   \n",
       "4              0           tcp    http   SF        217       2032     0   \n",
       "...          ...           ...     ...  ...        ...        ...   ...   \n",
       "494015         0           tcp    http   SF        310       1881     0   \n",
       "494016         0           tcp    http   SF        282       2286     0   \n",
       "494017         0           tcp    http   SF        203       1200     0   \n",
       "494018         0           tcp    http   SF        291       1200     0   \n",
       "494019         0           tcp    http   SF        219       1234     0   \n",
       "\n",
       "        wrong_fragment  urgent  hot  ...  dst_host_srv_count  \\\n",
       "0                    0       0    0  ...                  19   \n",
       "1                    0       0    0  ...                  29   \n",
       "2                    0       0    0  ...                  39   \n",
       "3                    0       0    0  ...                  49   \n",
       "4                    0       0    0  ...                  59   \n",
       "...                ...     ...  ...  ...                 ...   \n",
       "494015               0       0    0  ...                 255   \n",
       "494016               0       0    0  ...                 255   \n",
       "494017               0       0    0  ...                 255   \n",
       "494018               0       0    0  ...                 255   \n",
       "494019               0       0    0  ...                 255   \n",
       "\n",
       "        dst_host_same_srv_rate  dst_host_diff_srv_rate  \\\n",
       "0                          1.0                     0.0   \n",
       "1                          1.0                     0.0   \n",
       "2                          1.0                     0.0   \n",
       "3                          1.0                     0.0   \n",
       "4                          1.0                     0.0   \n",
       "...                        ...                     ...   \n",
       "494015                     1.0                     0.0   \n",
       "494016                     1.0                     0.0   \n",
       "494017                     1.0                     0.0   \n",
       "494018                     1.0                     0.0   \n",
       "494019                     1.0                     0.0   \n",
       "\n",
       "        dst_host_same_src_port_rate  dst_host_srv_diff_host_rate  \\\n",
       "0                              0.05                         0.00   \n",
       "1                              0.03                         0.00   \n",
       "2                              0.03                         0.00   \n",
       "3                              0.02                         0.00   \n",
       "4                              0.02                         0.00   \n",
       "...                             ...                          ...   \n",
       "494015                         0.01                         0.05   \n",
       "494016                         0.17                         0.05   \n",
       "494017                         0.06                         0.05   \n",
       "494018                         0.04                         0.05   \n",
       "494019                         0.17                         0.05   \n",
       "\n",
       "        dst_host_serror_rate  dst_host_srv_serror_rate  dst_host_rerror_rate  \\\n",
       "0                       0.00                      0.00                   0.0   \n",
       "1                       0.00                      0.00                   0.0   \n",
       "2                       0.00                      0.00                   0.0   \n",
       "3                       0.00                      0.00                   0.0   \n",
       "4                       0.00                      0.00                   0.0   \n",
       "...                      ...                       ...                   ...   \n",
       "494015                  0.00                      0.01                   0.0   \n",
       "494016                  0.00                      0.01                   0.0   \n",
       "494017                  0.06                      0.01                   0.0   \n",
       "494018                  0.04                      0.01                   0.0   \n",
       "494019                  0.00                      0.01                   0.0   \n",
       "\n",
       "        dst_host_srv_rerror_rate  outcome  \n",
       "0                            0.0  normal.  \n",
       "1                            0.0  normal.  \n",
       "2                            0.0  normal.  \n",
       "3                            0.0  normal.  \n",
       "4                            0.0  normal.  \n",
       "...                          ...      ...  \n",
       "494015                       0.0  normal.  \n",
       "494016                       0.0  normal.  \n",
       "494017                       0.0  normal.  \n",
       "494018                       0.0  normal.  \n",
       "494019                       0.0  normal.  \n",
       "\n",
       "[494020 rows x 42 columns]"
      ],
      "text/html": "<div>\n<style scoped>\n    .dataframe tbody tr th:only-of-type {\n        vertical-align: middle;\n    }\n\n    .dataframe tbody tr th {\n        vertical-align: top;\n    }\n\n    .dataframe thead th {\n        text-align: right;\n    }\n</style>\n<table border=\"1\" class=\"dataframe\">\n  <thead>\n    <tr style=\"text-align: right;\">\n      <th></th>\n      <th>duration</th>\n      <th>protocol_type</th>\n      <th>service</th>\n      <th>flag</th>\n      <th>src_bytes</th>\n      <th>dst_bytes</th>\n      <th>land</th>\n      <th>wrong_fragment</th>\n      <th>urgent</th>\n      <th>hot</th>\n      <th>...</th>\n      <th>dst_host_srv_count</th>\n      <th>dst_host_same_srv_rate</th>\n      <th>dst_host_diff_srv_rate</th>\n      <th>dst_host_same_src_port_rate</th>\n      <th>dst_host_srv_diff_host_rate</th>\n      <th>dst_host_serror_rate</th>\n      <th>dst_host_srv_serror_rate</th>\n      <th>dst_host_rerror_rate</th>\n      <th>dst_host_srv_rerror_rate</th>\n      <th>outcome</th>\n    </tr>\n  </thead>\n  <tbody>\n    <tr>\n      <th>0</th>\n      <td>0</td>\n      <td>tcp</td>\n      <td>http</td>\n      <td>SF</td>\n      <td>239</td>\n      <td>486</td>\n      <td>0</td>\n      <td>0</td>\n      <td>0</td>\n      <td>0</td>\n      <td>...</td>\n      <td>19</td>\n      <td>1.0</td>\n      <td>0.0</td>\n      <td>0.05</td>\n      <td>0.00</td>\n      <td>0.00</td>\n      <td>0.00</td>\n      <td>0.0</td>\n      <td>0.0</td>\n      <td>normal.</td>\n    </tr>\n    <tr>\n      <th>1</th>\n      <td>0</td>\n      <td>tcp</td>\n      <td>http</td>\n      <td>SF</td>\n      <td>235</td>\n      <td>1337</td>\n      <td>0</td>\n      <td>0</td>\n      <td>0</td>\n      <td>0</td>\n      <td>...</td>\n      <td>29</td>\n      <td>1.0</td>\n      <td>0.0</td>\n      <td>0.03</td>\n      <td>0.00</td>\n      <td>0.00</td>\n      <td>0.00</td>\n      <td>0.0</td>\n      <td>0.0</td>\n      <td>normal.</td>\n    </tr>\n    <tr>\n      <th>2</th>\n      <td>0</td>\n      <td>tcp</td>\n      <td>http</td>\n      <td>SF</td>\n      <td>219</td>\n      <td>1337</td>\n      <td>0</td>\n      <td>0</td>\n      <td>0</td>\n      <td>0</td>\n      <td>...</td>\n      <td>39</td>\n      <td>1.0</td>\n      <td>0.0</td>\n      <td>0.03</td>\n      <td>0.00</td>\n      <td>0.00</td>\n      <td>0.00</td>\n      <td>0.0</td>\n      <td>0.0</td>\n      <td>normal.</td>\n    </tr>\n    <tr>\n      <th>3</th>\n      <td>0</td>\n      <td>tcp</td>\n      <td>http</td>\n      <td>SF</td>\n      <td>217</td>\n      <td>2032</td>\n      <td>0</td>\n      <td>0</td>\n      <td>0</td>\n      <td>0</td>\n      <td>...</td>\n      <td>49</td>\n      <td>1.0</td>\n      <td>0.0</td>\n      <td>0.02</td>\n      <td>0.00</td>\n      <td>0.00</td>\n      <td>0.00</td>\n      <td>0.0</td>\n      <td>0.0</td>\n      <td>normal.</td>\n    </tr>\n    <tr>\n      <th>4</th>\n      <td>0</td>\n      <td>tcp</td>\n      <td>http</td>\n      <td>SF</td>\n      <td>217</td>\n      <td>2032</td>\n      <td>0</td>\n      <td>0</td>\n      <td>0</td>\n      <td>0</td>\n      <td>...</td>\n      <td>59</td>\n      <td>1.0</td>\n      <td>0.0</td>\n      <td>0.02</td>\n      <td>0.00</td>\n      <td>0.00</td>\n      <td>0.00</td>\n      <td>0.0</td>\n      <td>0.0</td>\n      <td>normal.</td>\n    </tr>\n    <tr>\n      <th>...</th>\n      <td>...</td>\n      <td>...</td>\n      <td>...</td>\n      <td>...</td>\n      <td>...</td>\n      <td>...</td>\n      <td>...</td>\n      <td>...</td>\n      <td>...</td>\n      <td>...</td>\n      <td>...</td>\n      <td>...</td>\n      <td>...</td>\n      <td>...</td>\n      <td>...</td>\n      <td>...</td>\n      <td>...</td>\n      <td>...</td>\n      <td>...</td>\n      <td>...</td>\n      <td>...</td>\n    </tr>\n    <tr>\n      <th>494015</th>\n      <td>0</td>\n      <td>tcp</td>\n      <td>http</td>\n      <td>SF</td>\n      <td>310</td>\n      <td>1881</td>\n      <td>0</td>\n      <td>0</td>\n      <td>0</td>\n      <td>0</td>\n      <td>...</td>\n      <td>255</td>\n      <td>1.0</td>\n      <td>0.0</td>\n      <td>0.01</td>\n      <td>0.05</td>\n      <td>0.00</td>\n      <td>0.01</td>\n      <td>0.0</td>\n      <td>0.0</td>\n      <td>normal.</td>\n    </tr>\n    <tr>\n      <th>494016</th>\n      <td>0</td>\n      <td>tcp</td>\n      <td>http</td>\n      <td>SF</td>\n      <td>282</td>\n      <td>2286</td>\n      <td>0</td>\n      <td>0</td>\n      <td>0</td>\n      <td>0</td>\n      <td>...</td>\n      <td>255</td>\n      <td>1.0</td>\n      <td>0.0</td>\n      <td>0.17</td>\n      <td>0.05</td>\n      <td>0.00</td>\n      <td>0.01</td>\n      <td>0.0</td>\n      <td>0.0</td>\n      <td>normal.</td>\n    </tr>\n    <tr>\n      <th>494017</th>\n      <td>0</td>\n      <td>tcp</td>\n      <td>http</td>\n      <td>SF</td>\n      <td>203</td>\n      <td>1200</td>\n      <td>0</td>\n      <td>0</td>\n      <td>0</td>\n      <td>0</td>\n      <td>...</td>\n      <td>255</td>\n      <td>1.0</td>\n      <td>0.0</td>\n      <td>0.06</td>\n      <td>0.05</td>\n      <td>0.06</td>\n      <td>0.01</td>\n      <td>0.0</td>\n      <td>0.0</td>\n      <td>normal.</td>\n    </tr>\n    <tr>\n      <th>494018</th>\n      <td>0</td>\n      <td>tcp</td>\n      <td>http</td>\n      <td>SF</td>\n      <td>291</td>\n      <td>1200</td>\n      <td>0</td>\n      <td>0</td>\n      <td>0</td>\n      <td>0</td>\n      <td>...</td>\n      <td>255</td>\n      <td>1.0</td>\n      <td>0.0</td>\n      <td>0.04</td>\n      <td>0.05</td>\n      <td>0.04</td>\n      <td>0.01</td>\n      <td>0.0</td>\n      <td>0.0</td>\n      <td>normal.</td>\n    </tr>\n    <tr>\n      <th>494019</th>\n      <td>0</td>\n      <td>tcp</td>\n      <td>http</td>\n      <td>SF</td>\n      <td>219</td>\n      <td>1234</td>\n      <td>0</td>\n      <td>0</td>\n      <td>0</td>\n      <td>0</td>\n      <td>...</td>\n      <td>255</td>\n      <td>1.0</td>\n      <td>0.0</td>\n      <td>0.17</td>\n      <td>0.05</td>\n      <td>0.00</td>\n      <td>0.01</td>\n      <td>0.0</td>\n      <td>0.0</td>\n      <td>normal.</td>\n    </tr>\n  </tbody>\n</table>\n<p>494020 rows × 42 columns</p>\n</div>"
     },
     "metadata": {},
     "execution_count": 10
    }
   ],
   "source": [
    "# print dataframe tuples\n",
    "df_csv"
   ]
  },
  {
   "cell_type": "markdown",
   "metadata": {},
   "source": [
    "# Data Preprocessing\n",
    "Before it can be used, the data first must be examined and cleaned. This means that redundant records and records with missing values will need to be removed"
   ]
  },
  {
   "cell_type": "code",
   "execution_count": 11,
   "metadata": {},
   "outputs": [
    {
     "output_type": "execute_result",
     "data": {
      "text/plain": [
       "0    87831\n",
       "1    57754\n",
       "Name: outcome, dtype: int64"
      ]
     },
     "metadata": {},
     "execution_count": 11
    }
   ],
   "source": [
    "# remove redundant records\n",
    "df_csv.drop_duplicates(subset=None, inplace=True)\n",
    "\n",
    "# remove values with missing values\n",
    "df_csv.dropna()\n",
    "\n",
    "# determine and remove any useless columns that may incorrectly influence the output\n",
    "\n",
    "# encode symbolic variables\n",
    "symbolic = [\n",
    "    'protocol_type',\n",
    "    'service',\n",
    "    'flag',\n",
    "    'land',\n",
    "    'logged_in',\n",
    "    'is_host_login',\n",
    "    'is_guest_login',\n",
    "]\n",
    "\n",
    "continuous = [\n",
    "    'duration',\n",
    "    'src_bytes',\n",
    "    'dst_bytes'\n",
    "]\n",
    "for i in symbolic:\n",
    "    encode_text_dummy(df_csv, i)\n",
    "for j in continuous:\n",
    "    encode_numeric_zscore(df_csv, j)\n",
    "    \n",
    "y = df_csv['outcome'].map(make_binary)\n",
    "# 0 for normal\n",
    "# 1 for attack\n",
    "y.value_counts()"
   ]
  },
  {
   "cell_type": "code",
   "execution_count": 12,
   "metadata": {},
   "outputs": [
    {
     "output_type": "execute_result",
     "data": {
      "text/plain": [
       "        duration  src_bytes  dst_bytes  wrong_fragment  urgent  hot  \\\n",
       "0       -0.10785  -0.004261  -0.039036               0       0    0   \n",
       "1       -0.10785  -0.004263  -0.025041               0       0    0   \n",
       "2       -0.10785  -0.004272  -0.025041               0       0    0   \n",
       "3       -0.10785  -0.004273  -0.013612               0       0    0   \n",
       "4       -0.10785  -0.004273  -0.013612               0       0    0   \n",
       "...          ...        ...        ...             ...     ...  ...   \n",
       "494015  -0.10785  -0.004222  -0.016095               0       0    0   \n",
       "494016  -0.10785  -0.004237  -0.009435               0       0    0   \n",
       "494017  -0.10785  -0.004281  -0.027294               0       0    0   \n",
       "494018  -0.10785  -0.004232  -0.027294               0       0    0   \n",
       "494019  -0.10785  -0.004272  -0.026735               0       0    0   \n",
       "\n",
       "        num_failed_logins  num_compromised  root_shell  su_attempted  ...  \\\n",
       "0                       0                0           0             0  ...   \n",
       "1                       0                0           0             0  ...   \n",
       "2                       0                0           0             0  ...   \n",
       "3                       0                0           0             0  ...   \n",
       "4                       0                0           0             0  ...   \n",
       "...                   ...              ...         ...           ...  ...   \n",
       "494015                  0                0           0             0  ...   \n",
       "494016                  0                0           0             0  ...   \n",
       "494017                  0                0           0             0  ...   \n",
       "494018                  0                0           0             0  ...   \n",
       "494019                  0                0           0             0  ...   \n",
       "\n",
       "        flag-S3  flag-SF  flag-SH  land-0  land-1  logged_in-0  logged_in-1  \\\n",
       "0             0        1        0       1       0            0            1   \n",
       "1             0        1        0       1       0            0            1   \n",
       "2             0        1        0       1       0            0            1   \n",
       "3             0        1        0       1       0            0            1   \n",
       "4             0        1        0       1       0            0            1   \n",
       "...         ...      ...      ...     ...     ...          ...          ...   \n",
       "494015        0        1        0       1       0            0            1   \n",
       "494016        0        1        0       1       0            0            1   \n",
       "494017        0        1        0       1       0            0            1   \n",
       "494018        0        1        0       1       0            0            1   \n",
       "494019        0        1        0       1       0            0            1   \n",
       "\n",
       "        is_host_login-0  is_guest_login-0  is_guest_login-1  \n",
       "0                     1                 1                 0  \n",
       "1                     1                 1                 0  \n",
       "2                     1                 1                 0  \n",
       "3                     1                 1                 0  \n",
       "4                     1                 1                 0  \n",
       "...                 ...               ...               ...  \n",
       "494015                1                 1                 0  \n",
       "494016                1                 1                 0  \n",
       "494017                1                 1                 0  \n",
       "494018                1                 1                 0  \n",
       "494019                1                 1                 0  \n",
       "\n",
       "[145585 rows x 122 columns]"
      ],
      "text/html": "<div>\n<style scoped>\n    .dataframe tbody tr th:only-of-type {\n        vertical-align: middle;\n    }\n\n    .dataframe tbody tr th {\n        vertical-align: top;\n    }\n\n    .dataframe thead th {\n        text-align: right;\n    }\n</style>\n<table border=\"1\" class=\"dataframe\">\n  <thead>\n    <tr style=\"text-align: right;\">\n      <th></th>\n      <th>duration</th>\n      <th>src_bytes</th>\n      <th>dst_bytes</th>\n      <th>wrong_fragment</th>\n      <th>urgent</th>\n      <th>hot</th>\n      <th>num_failed_logins</th>\n      <th>num_compromised</th>\n      <th>root_shell</th>\n      <th>su_attempted</th>\n      <th>...</th>\n      <th>flag-S3</th>\n      <th>flag-SF</th>\n      <th>flag-SH</th>\n      <th>land-0</th>\n      <th>land-1</th>\n      <th>logged_in-0</th>\n      <th>logged_in-1</th>\n      <th>is_host_login-0</th>\n      <th>is_guest_login-0</th>\n      <th>is_guest_login-1</th>\n    </tr>\n  </thead>\n  <tbody>\n    <tr>\n      <th>0</th>\n      <td>-0.10785</td>\n      <td>-0.004261</td>\n      <td>-0.039036</td>\n      <td>0</td>\n      <td>0</td>\n      <td>0</td>\n      <td>0</td>\n      <td>0</td>\n      <td>0</td>\n      <td>0</td>\n      <td>...</td>\n      <td>0</td>\n      <td>1</td>\n      <td>0</td>\n      <td>1</td>\n      <td>0</td>\n      <td>0</td>\n      <td>1</td>\n      <td>1</td>\n      <td>1</td>\n      <td>0</td>\n    </tr>\n    <tr>\n      <th>1</th>\n      <td>-0.10785</td>\n      <td>-0.004263</td>\n      <td>-0.025041</td>\n      <td>0</td>\n      <td>0</td>\n      <td>0</td>\n      <td>0</td>\n      <td>0</td>\n      <td>0</td>\n      <td>0</td>\n      <td>...</td>\n      <td>0</td>\n      <td>1</td>\n      <td>0</td>\n      <td>1</td>\n      <td>0</td>\n      <td>0</td>\n      <td>1</td>\n      <td>1</td>\n      <td>1</td>\n      <td>0</td>\n    </tr>\n    <tr>\n      <th>2</th>\n      <td>-0.10785</td>\n      <td>-0.004272</td>\n      <td>-0.025041</td>\n      <td>0</td>\n      <td>0</td>\n      <td>0</td>\n      <td>0</td>\n      <td>0</td>\n      <td>0</td>\n      <td>0</td>\n      <td>...</td>\n      <td>0</td>\n      <td>1</td>\n      <td>0</td>\n      <td>1</td>\n      <td>0</td>\n      <td>0</td>\n      <td>1</td>\n      <td>1</td>\n      <td>1</td>\n      <td>0</td>\n    </tr>\n    <tr>\n      <th>3</th>\n      <td>-0.10785</td>\n      <td>-0.004273</td>\n      <td>-0.013612</td>\n      <td>0</td>\n      <td>0</td>\n      <td>0</td>\n      <td>0</td>\n      <td>0</td>\n      <td>0</td>\n      <td>0</td>\n      <td>...</td>\n      <td>0</td>\n      <td>1</td>\n      <td>0</td>\n      <td>1</td>\n      <td>0</td>\n      <td>0</td>\n      <td>1</td>\n      <td>1</td>\n      <td>1</td>\n      <td>0</td>\n    </tr>\n    <tr>\n      <th>4</th>\n      <td>-0.10785</td>\n      <td>-0.004273</td>\n      <td>-0.013612</td>\n      <td>0</td>\n      <td>0</td>\n      <td>0</td>\n      <td>0</td>\n      <td>0</td>\n      <td>0</td>\n      <td>0</td>\n      <td>...</td>\n      <td>0</td>\n      <td>1</td>\n      <td>0</td>\n      <td>1</td>\n      <td>0</td>\n      <td>0</td>\n      <td>1</td>\n      <td>1</td>\n      <td>1</td>\n      <td>0</td>\n    </tr>\n    <tr>\n      <th>...</th>\n      <td>...</td>\n      <td>...</td>\n      <td>...</td>\n      <td>...</td>\n      <td>...</td>\n      <td>...</td>\n      <td>...</td>\n      <td>...</td>\n      <td>...</td>\n      <td>...</td>\n      <td>...</td>\n      <td>...</td>\n      <td>...</td>\n      <td>...</td>\n      <td>...</td>\n      <td>...</td>\n      <td>...</td>\n      <td>...</td>\n      <td>...</td>\n      <td>...</td>\n      <td>...</td>\n    </tr>\n    <tr>\n      <th>494015</th>\n      <td>-0.10785</td>\n      <td>-0.004222</td>\n      <td>-0.016095</td>\n      <td>0</td>\n      <td>0</td>\n      <td>0</td>\n      <td>0</td>\n      <td>0</td>\n      <td>0</td>\n      <td>0</td>\n      <td>...</td>\n      <td>0</td>\n      <td>1</td>\n      <td>0</td>\n      <td>1</td>\n      <td>0</td>\n      <td>0</td>\n      <td>1</td>\n      <td>1</td>\n      <td>1</td>\n      <td>0</td>\n    </tr>\n    <tr>\n      <th>494016</th>\n      <td>-0.10785</td>\n      <td>-0.004237</td>\n      <td>-0.009435</td>\n      <td>0</td>\n      <td>0</td>\n      <td>0</td>\n      <td>0</td>\n      <td>0</td>\n      <td>0</td>\n      <td>0</td>\n      <td>...</td>\n      <td>0</td>\n      <td>1</td>\n      <td>0</td>\n      <td>1</td>\n      <td>0</td>\n      <td>0</td>\n      <td>1</td>\n      <td>1</td>\n      <td>1</td>\n      <td>0</td>\n    </tr>\n    <tr>\n      <th>494017</th>\n      <td>-0.10785</td>\n      <td>-0.004281</td>\n      <td>-0.027294</td>\n      <td>0</td>\n      <td>0</td>\n      <td>0</td>\n      <td>0</td>\n      <td>0</td>\n      <td>0</td>\n      <td>0</td>\n      <td>...</td>\n      <td>0</td>\n      <td>1</td>\n      <td>0</td>\n      <td>1</td>\n      <td>0</td>\n      <td>0</td>\n      <td>1</td>\n      <td>1</td>\n      <td>1</td>\n      <td>0</td>\n    </tr>\n    <tr>\n      <th>494018</th>\n      <td>-0.10785</td>\n      <td>-0.004232</td>\n      <td>-0.027294</td>\n      <td>0</td>\n      <td>0</td>\n      <td>0</td>\n      <td>0</td>\n      <td>0</td>\n      <td>0</td>\n      <td>0</td>\n      <td>...</td>\n      <td>0</td>\n      <td>1</td>\n      <td>0</td>\n      <td>1</td>\n      <td>0</td>\n      <td>0</td>\n      <td>1</td>\n      <td>1</td>\n      <td>1</td>\n      <td>0</td>\n    </tr>\n    <tr>\n      <th>494019</th>\n      <td>-0.10785</td>\n      <td>-0.004272</td>\n      <td>-0.026735</td>\n      <td>0</td>\n      <td>0</td>\n      <td>0</td>\n      <td>0</td>\n      <td>0</td>\n      <td>0</td>\n      <td>0</td>\n      <td>...</td>\n      <td>0</td>\n      <td>1</td>\n      <td>0</td>\n      <td>1</td>\n      <td>0</td>\n      <td>0</td>\n      <td>1</td>\n      <td>1</td>\n      <td>1</td>\n      <td>0</td>\n    </tr>\n  </tbody>\n</table>\n<p>145585 rows × 122 columns</p>\n</div>"
     },
     "metadata": {},
     "execution_count": 12
    }
   ],
   "source": [
    "# verify data frame\n",
    "df_csv"
   ]
  },
  {
   "cell_type": "code",
   "execution_count": 13,
   "metadata": {},
   "outputs": [],
   "source": [
    "# drop outcomes\n",
    "df_csv = df_csv.drop('outcome', axis=1)"
   ]
  },
  {
   "cell_type": "code",
   "execution_count": 14,
   "metadata": {},
   "outputs": [],
   "source": [
    "# convert to numpy array\n",
    "df = df_csv.to_numpy()\n",
    "df_x = df.reshape(len(df_csv), 1, len(df_csv.columns), 1)"
   ]
  },
  {
   "cell_type": "code",
   "execution_count": 15,
   "metadata": {},
   "outputs": [
    {
     "output_type": "execute_result",
     "data": {
      "text/plain": [
       "array([[[[-0.10785025],\n",
       "         [-0.00426104],\n",
       "         [-0.03903572],\n",
       "         ...,\n",
       "         [ 1.        ],\n",
       "         [ 1.        ],\n",
       "         [ 0.        ]]],\n",
       "\n",
       "\n",
       "       [[[-0.10785025],\n",
       "         [-0.00426324],\n",
       "         [-0.02504131],\n",
       "         ...,\n",
       "         [ 1.        ],\n",
       "         [ 1.        ],\n",
       "         [ 0.        ]]],\n",
       "\n",
       "\n",
       "       [[[-0.10785025],\n",
       "         [-0.00427203],\n",
       "         [-0.02504131],\n",
       "         ...,\n",
       "         [ 1.        ],\n",
       "         [ 1.        ],\n",
       "         [ 0.        ]]],\n",
       "\n",
       "\n",
       "       ...,\n",
       "\n",
       "\n",
       "       [[[-0.10785025],\n",
       "         [-0.00428082],\n",
       "         [-0.02729423],\n",
       "         ...,\n",
       "         [ 1.        ],\n",
       "         [ 1.        ],\n",
       "         [ 0.        ]]],\n",
       "\n",
       "\n",
       "       [[[-0.10785025],\n",
       "         [-0.00423248],\n",
       "         [-0.02729423],\n",
       "         ...,\n",
       "         [ 1.        ],\n",
       "         [ 1.        ],\n",
       "         [ 0.        ]]],\n",
       "\n",
       "\n",
       "       [[[-0.10785025],\n",
       "         [-0.00427203],\n",
       "         [-0.02673511],\n",
       "         ...,\n",
       "         [ 1.        ],\n",
       "         [ 1.        ],\n",
       "         [ 0.        ]]]])"
      ]
     },
     "metadata": {},
     "execution_count": 15
    }
   ],
   "source": [
    "df_x"
   ]
  },
  {
   "cell_type": "markdown",
   "metadata": {},
   "source": [
    "# Split into train/test set"
   ]
  },
  {
   "cell_type": "code",
   "execution_count": 16,
   "metadata": {},
   "outputs": [],
   "source": [
    "x_train, x_test, y_train, y_test = train_test_split(df_x, y, test_size=0.25, random_state=42)\n",
    "x_train = x_train.astype('float32')\n",
    "x_test = x_test.astype('float32')\n",
    "y_train = tf.keras.utils.to_categorical(y_train, 2)\n",
    "y_test = tf.keras.utils.to_categorical(y_test, 2)"
   ]
  },
  {
   "cell_type": "code",
   "execution_count": 17,
   "metadata": {},
   "outputs": [
    {
     "output_type": "stream",
     "name": "stdout",
     "text": [
      "(109188, 1, 121, 1)\n(109188, 2)\n(36397, 1, 121, 1)\n(36397, 2)\n"
     ]
    }
   ],
   "source": [
    "# print shapes\n",
    "print(x_train.shape)\n",
    "print(y_train.shape)\n",
    "print(x_test.shape)\n",
    "print(y_test.shape)"
   ]
  },
  {
   "cell_type": "markdown",
   "metadata": {},
   "source": [
    "# Prepare Convolutional Model"
   ]
  },
  {
   "cell_type": "code",
   "execution_count": 86,
   "metadata": {},
   "outputs": [],
   "source": [
    "from tensorflow.keras.optimizers import Adam\n",
    "convnet = Sequential()\n",
    "# add convnet layers\n",
    "input_shape = (1,121,1)\n",
    "\n",
    "convnet.add(Conv2D(64, kernel_size=(1, 1), strides=(1, 1), padding='valid',\n",
    "                 activation='relu',\n",
    "                 input_shape=input_shape))\n",
    "convnet.add(Conv2D(64, (1, 1), activation='relu'))\n",
    "convnet.add(MaxPooling2D(pool_size=(1, 1), strides=None))\n",
    "convnet.add(Dropout(0.25))\n",
    "\n",
    "convnet.add(Flatten())\n",
    "\n",
    "convnet.add(Dense(2, activation='relu'))\n",
    "\n",
    "convnet.add(Dropout(0.5))\n",
    "\n",
    "# compile convnet\n",
    "convnet.compile(loss=tf.keras.losses.categorical_crossentropy, optimizer=Adam(lr=0.001, decay=1e-6), metrics=['accuracy'])"
   ]
  },
  {
   "cell_type": "code",
   "execution_count": 87,
   "metadata": {},
   "outputs": [
    {
     "output_type": "stream",
     "name": "stdout",
     "text": [
      "Model: \"sequential_40\"\n_________________________________________________________________\nLayer (type)                 Output Shape              Param #   \n=================================================================\nconv2d_56 (Conv2D)           (None, 1, 121, 64)        128       \n_________________________________________________________________\nconv2d_57 (Conv2D)           (None, 1, 121, 64)        4160      \n_________________________________________________________________\nmax_pooling2d_16 (MaxPooling (None, 1, 121, 64)        0         \n_________________________________________________________________\ndropout_24 (Dropout)         (None, 1, 121, 64)        0         \n_________________________________________________________________\nflatten_8 (Flatten)          (None, 7744)              0         \n_________________________________________________________________\ndense_10 (Dense)             (None, 2)                 15490     \n_________________________________________________________________\ndropout_25 (Dropout)         (None, 2)                 0         \n=================================================================\nTotal params: 19,778\nTrainable params: 19,778\nNon-trainable params: 0\n_________________________________________________________________\n"
     ]
    }
   ],
   "source": [
    "# print convnet summary\n",
    "convnet.summary()"
   ]
  },
  {
   "cell_type": "markdown",
   "metadata": {},
   "source": [
    "# Fit and train model"
   ]
  },
  {
   "cell_type": "code",
   "execution_count": 49,
   "metadata": {},
   "outputs": [
    {
     "output_type": "stream",
     "name": "stdout",
     "text": [
      "36397\n"
     ]
    }
   ],
   "source": [
    "print(len(x_test))"
   ]
  },
  {
   "cell_type": "code",
   "execution_count": 90,
   "metadata": {},
   "outputs": [
    {
     "output_type": "stream",
     "name": "stdout",
     "text": [
      "Train on 109188 samples, validate on 36397 samples\n",
      "Epoch 1/1000\n",
      "109188/109188 - 5s - loss: 1.1921e-07 - acc: 0.6035 - val_loss: 1.1921e-07 - val_acc: 0.6027\n",
      "Epoch 2/1000\n",
      "109188/109188 - 5s - loss: 1.1921e-07 - acc: 0.6035 - val_loss: 1.1921e-07 - val_acc: 0.6027\n",
      "Epoch 3/1000\n",
      "109188/109188 - 5s - loss: 1.1921e-07 - acc: 0.6035 - val_loss: 1.1921e-07 - val_acc: 0.6027\n",
      "Epoch 4/1000\n",
      "109188/109188 - 5s - loss: 1.1921e-07 - acc: 0.6035 - val_loss: 1.1921e-07 - val_acc: 0.6027\n",
      "Epoch 5/1000\n",
      "109188/109188 - 5s - loss: 1.1921e-07 - acc: 0.6035 - val_loss: 1.1921e-07 - val_acc: 0.6027\n",
      "Epoch 6/1000\n",
      "109188/109188 - 6s - loss: 1.1921e-07 - acc: 0.6035 - val_loss: 1.1921e-07 - val_acc: 0.6027\n",
      "Epoch 7/1000\n",
      "109188/109188 - 4s - loss: 1.1921e-07 - acc: 0.6035 - val_loss: 1.1921e-07 - val_acc: 0.6027\n",
      "Epoch 8/1000\n",
      "109188/109188 - 4s - loss: 1.1921e-07 - acc: 0.6035 - val_loss: 1.1921e-07 - val_acc: 0.6027\n",
      "Epoch 9/1000\n",
      "109188/109188 - 4s - loss: 1.1921e-07 - acc: 0.6035 - val_loss: 1.1921e-07 - val_acc: 0.6027\n",
      "Epoch 10/1000\n",
      "109188/109188 - 4s - loss: 1.1921e-07 - acc: 0.6035 - val_loss: 1.1921e-07 - val_acc: 0.6027\n",
      "Epoch 11/1000\n",
      "109188/109188 - 4s - loss: 1.1921e-07 - acc: 0.6035 - val_loss: 1.1921e-07 - val_acc: 0.6027\n",
      "Epoch 12/1000\n",
      "109188/109188 - 4s - loss: 1.1921e-07 - acc: 0.6035 - val_loss: 1.1921e-07 - val_acc: 0.6027\n",
      "Epoch 13/1000\n",
      "109188/109188 - 4s - loss: 1.1921e-07 - acc: 0.6035 - val_loss: 1.1921e-07 - val_acc: 0.6027\n",
      "Epoch 14/1000\n",
      "109188/109188 - 4s - loss: 1.1921e-07 - acc: 0.6035 - val_loss: 1.1921e-07 - val_acc: 0.6027\n",
      "Epoch 15/1000\n",
      "109188/109188 - 4s - loss: 1.1921e-07 - acc: 0.6035 - val_loss: 1.1921e-07 - val_acc: 0.6027\n",
      "Epoch 16/1000\n",
      "109188/109188 - 4s - loss: 1.1921e-07 - acc: 0.6035 - val_loss: 1.1921e-07 - val_acc: 0.6027\n",
      "Epoch 17/1000\n",
      "109188/109188 - 5s - loss: 1.1921e-07 - acc: 0.6035 - val_loss: 1.1921e-07 - val_acc: 0.6027\n",
      "Epoch 18/1000\n",
      "109188/109188 - 4s - loss: 1.1921e-07 - acc: 0.6035 - val_loss: 1.1921e-07 - val_acc: 0.6027\n",
      "Epoch 19/1000\n",
      "109188/109188 - 5s - loss: 1.1921e-07 - acc: 0.6035 - val_loss: 1.1921e-07 - val_acc: 0.6027\n",
      "Epoch 20/1000\n",
      "109188/109188 - 5s - loss: 1.1921e-07 - acc: 0.6035 - val_loss: 1.1921e-07 - val_acc: 0.6027\n",
      "Epoch 21/1000\n",
      "109188/109188 - 5s - loss: 1.1921e-07 - acc: 0.6035 - val_loss: 1.1921e-07 - val_acc: 0.6027\n",
      "Epoch 00021: early stopping\n",
      "Elapsed Time: 0:01:38.91\n"
     ]
    }
   ],
   "source": [
    "start_time = time.time()\n",
    "batch = 128\n",
    "\n",
    "monitor = EarlyStopping(monitor='val_loss', min_delta=1e-6, patience=20, verbose=2, mode='auto')\n",
    "checkpoint = ModelCheckpoint(filepath=weights, verbose=0, save_best_only=True)\n",
    "\n",
    "# fit convnet\n",
    "convnet.fit(x_train, y_train, batch_size=batch, callbacks=[monitor, checkpoint], epochs=1000, verbose=2, validation_data=(x_test, y_test))\n",
    "\n",
    "# load weights\n",
    "convnet.load_weights(weights)\n",
    "elapsed_time = time.time() - start_time\n",
    "print(\"Elapsed Time: {}\".format(hms_string(elapsed_time)))"
   ]
  },
  {
   "cell_type": "code",
   "execution_count": 91,
   "metadata": {},
   "outputs": [
    {
     "output_type": "stream",
     "name": "stdout",
     "text": [
      "Test loss: 1.1920930376163597e-07\nTest accuracy: 0.5799999833106995\n"
     ]
    }
   ],
   "source": [
    "# evaluate() computes the loss and accuracy\n",
    "score = convnet.evaluate(x_test[0:100], y_test[0:100], verbose=0)\n",
    "score\n",
    "print('Test loss: {}'.format(score[0]))\n",
    "print('Test accuracy: {}'.format(score[1]))"
   ]
  },
  {
   "cell_type": "code",
   "execution_count": 115,
   "metadata": {},
   "outputs": [
    {
     "name": "stdout",
     "output_type": "stream",
     "text": [
      "Completed\n"
     ]
    }
   ],
   "source": [
    "# Ding when complete\n",
    "if os.name == 'nt':\n",
    "    ding()\n",
    "else:\n",
    "    print(\"Completed\")"
   ]
  },
  {
   "cell_type": "markdown",
   "metadata": {},
   "source": [
    "# Perform predictions"
   ]
  },
  {
   "cell_type": "code",
   "execution_count": null,
   "metadata": {},
   "outputs": [],
   "source": []
  },
  {
   "cell_type": "markdown",
   "metadata": {},
   "source": [
    "# Model Evaluation\n",
    "As a classification model, this model will be evaluated on the following metrics: \n",
    " * Accuracy\n",
    " * Precision\n",
    " * Recall\n",
    " * F1 Score\n",
    " * Log Loss\n",
    " * Confusion Matrix\n",
    " * ROC Curve"
   ]
  },
  {
   "cell_type": "code",
   "execution_count": null,
   "metadata": {},
   "outputs": [],
   "source": []
  }
 ],
 "metadata": {
  "kernelspec": {
   "display_name": "Python 3",
   "language": "python",
   "name": "python3"
  },
  "language_info": {
   "codemirror_mode": {
    "name": "ipython",
    "version": 3
   },
   "file_extension": ".py",
   "mimetype": "text/x-python",
   "name": "python",
   "nbconvert_exporter": "python",
   "pygments_lexer": "ipython3",
   "version": "3.7.6-final"
  }
 },
 "nbformat": 4,
 "nbformat_minor": 4
}