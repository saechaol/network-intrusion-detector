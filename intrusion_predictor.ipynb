{
 "cells": [
  {
   "cell_type": "markdown",
   "metadata": {},
   "source": [
    "# Network Intrusion Detector\n",
    "### CSc 180, Sect. 01 (Spring 2021)\n",
    "### Lucas Saechao, Noah Venethongkham, Ashley Thor\n",
    "### 03/12/2021"
   ]
  },
  {
   "cell_type": "markdown",
   "metadata": {},
   "source": [
    "# Abstract\n",
    "Software that protects computer networks from unauthorized intrusion or access provide real, universal value to individuals and enterprises across the world. This type of software is known as an Intrusion Detection System (IDS), and is intended to monitor a network for malicious activity. The advent and explosion of machine learning models, and software in the last decade provide opportunities to develop new techniques in order to determine good or bad actors in a system. \n",
    "\n",
    "This project aims to build a Network IDS (NIDS) using machine learning, by providing an accurate, predictive model that can distinguish bad connections, intrusions, or attacks, from genuine, well-intentioned network connections.\n",
    "\n",
    "This model is trained using the KDD Cup 1999 Dataset."
   ]
  },
  {
   "cell_type": "markdown",
   "metadata": {},
   "source": [
    "# Import Libraries"
   ]
  },
  {
   "cell_type": "code",
   "execution_count": 24,
   "metadata": {},
   "outputs": [],
   "source": [
    "# matplotlib\n",
    "%matplotlib inline\n",
    "from matplotlib.pyplot import figure, show\n",
    "import matplotlib.pyplot as plt\n",
    "\n",
    "# numpy and pandas\n",
    "import numpy as np\n",
    "import pandas as pd\n",
    "\n",
    "# scikit learn\n",
    "from sklearn import preprocessing\n",
    "from sklearn import metrics\n",
    "from sklearn.model_selection import train_test_split\n",
    "from sklearn.metrics import classification_report, confusion_matrix, roc_curve, auc\n",
    "from sklearn.preprocessing import LabelEncoder\n",
    "from sklearn.utils import column_or_1d\n",
    "import sklearn.feature_extraction.text as sk_text\n",
    "\n",
    "# tensorflow and keras\n",
    "from tensorflow.keras import optimizers, regularizers\n",
    "from tensorflow.keras.models import Sequential\n",
    "from tensorflow.keras.callbacks import EarlyStopping, ModelCheckpoint\n",
    "from tensorflow.keras.layers import Dense, Activation, Flatten, Dropout, Conv2D, MaxPooling2D\n",
    "import tensorflow as tf\n",
    "import tensorflow.keras\n",
    "\n",
    "# python libraries\n",
    "import requests\n",
    "import shutil\n",
    "import json\n",
    "import time\n",
    "import csv\n",
    "import io\n",
    "import os\n",
    "\n",
    "# if OS is windows, import chime\n",
    "if os.name == 'nt':\n",
    "    import winsound\n",
    "\n",
    "read = './data/'\n",
    "write = './weights/'\n",
    "\n",
    "path = os.path.join(read, 'nid.csv')\n",
    "weights = os.path.join(write, \"weights.hdf5\")"
   ]
  },
  {
   "cell_type": "markdown",
   "metadata": {},
   "source": [
    "# Helper Functions"
   ]
  },
  {
   "cell_type": "code",
   "execution_count": 39,
   "metadata": {},
   "outputs": [],
   "source": [
    "# Plots a confusion matrix for the model\n",
    "def plot_confusion_matrix(cm, names, title='Confusion matrix', cmap=plt.cm.Blues):\n",
    "    plt.imshow(cm, interpolation='nearest', cmap=cmap)\n",
    "    plt.title(title)\n",
    "    plt.colorbar()\n",
    "    tick_marks = np.arange(len(names))\n",
    "    plt.xticks(tick_marks, names, rotation=45)\n",
    "    plt.yticks(tick_marks, names)\n",
    "    plt.tight_layout()\n",
    "    plt.ylabel('True label')\n",
    "    plt.xlabel('Predicted label')\n",
    "    \n",
    "# Plot an ROC curve\n",
    "def plot_roc(pred, y):\n",
    "    fpr, tpr, thresholds = roc_curve(y, pred)\n",
    "    roc_area_under_curve = auc(fpr, tpr)\n",
    "    \n",
    "    plt.figure()\n",
    "    plt.plot(fpr, tpr, label='ROC curve (area = $0.2f)' % roc_area_under_curve)\n",
    "    plt.plot([0, 1], [0, 1], 'k--')\n",
    "    plt.xlim([0.0, 1.0])\n",
    "    plt.ylim([0.0, 1.05])\n",
    "    plt.xlabel('False Positive Rate')\n",
    "    plt.ylabel('True Positive Rate')\n",
    "    plt.title('Receiver Operating Characteristic (ROC)')\n",
    "    plt.legend(loc=\"lower right\")\n",
    "    plt.show\n",
    "    \n",
    "# Encodes text values into numerical variables\n",
    "def encode_text_dummy(df, name):\n",
    "    dummies = pd.get_dummies(df[name])\n",
    "    for i in dummies.columns:\n",
    "        dummy_name = \"{}-{}\".format(name, i)\n",
    "        df[dummy_name] = dummies[i]\n",
    "    df.drop(name, axis=1, inplace=True)\n",
    "    \n",
    "# Normalizes numerical values into a z-score\n",
    "def encode_numeric_zscore(df, name, mean=None, sd=None):\n",
    "    if mean is None:\n",
    "        mean = df[name].mean()\n",
    "    if sd is None:\n",
    "        sd = df[name].std()\n",
    "    df[name] = (df[name] - mean) / sd\n",
    "    \n",
    "# For formatting time\n",
    "def hms_string(sec_elapsed):\n",
    "    h = int(sec_elapsed / (60 * 60))\n",
    "    m = int((sec_elapsed % (60 * 60)) / 60)\n",
    "    s = sec_elapsed % 60\n",
    "    return \"{}:{:>02}:{:>05.2f}\".format(h, m, s)\n",
    "    \n",
    "# Beep if on a windows machine\n",
    "if os.name == 'nt':\n",
    "    def ding():\n",
    "        winsound.Beep(2000, 300)\n",
    "        winsound.Beep(2000, 300)\n",
    "        winsound.Beep(2000, 300)"
   ]
  },
  {
   "cell_type": "markdown",
   "metadata": {},
   "source": [
    "# Preprocessing Data Functions\n",
    "Because this is to be treated as a binary classification problem, we will only care about normal outcomes compared to attacks - the data currently has several discrete attack types, so the following label encoder will provide it in normal and not-normal terms"
   ]
  },
  {
   "cell_type": "code",
   "execution_count": 26,
   "metadata": {},
   "outputs": [],
   "source": [
    "def make_binary(input_str):\n",
    "    out = 0 if input_str == 'normal.' else 1\n",
    "    return out"
   ]
  },
  {
   "cell_type": "markdown",
   "metadata": {},
   "source": [
    "# Import Data"
   ]
  },
  {
   "cell_type": "code",
   "execution_count": 27,
   "metadata": {},
   "outputs": [],
   "source": [
    "df_csv = pd.read_csv(path, encoding='utf-8')\n",
    "df_csv.columns = [\n",
    "    'duration',\n",
    "    'protocol_type',\n",
    "    'service',\n",
    "    'flag',\n",
    "    'src_bytes',\n",
    "    'dst_bytes',\n",
    "    'land',\n",
    "    'wrong_fragment',\n",
    "    'urgent',\n",
    "    'hot',\n",
    "    'num_failed_logins',\n",
    "    'logged_in',\n",
    "    'num_compromised',\n",
    "    'root_shell',\n",
    "    'su_attempted',\n",
    "    'num_root',\n",
    "    'num_file_creations',\n",
    "    'num_shells',\n",
    "    'num_access_files',\n",
    "    'num_outbound_cmds',\n",
    "    'is_host_login',\n",
    "    'is_guest_login',\n",
    "    'count',\n",
    "    'srv_count',\n",
    "    'serror_rate',\n",
    "    'srv_serror_rate',\n",
    "    'rerror_rate',\n",
    "    'srv_rerror_rate',\n",
    "    'same_srv_rate',\n",
    "    'diff_srv_rate',\n",
    "    'srv_diff_host_rate',\n",
    "    'dst_host_count',\n",
    "    'dst_host_srv_count',\n",
    "    'dst_host_same_srv_rate',\n",
    "    'dst_host_diff_srv_rate',\n",
    "    'dst_host_same_src_port_rate',\n",
    "    'dst_host_srv_diff_host_rate',\n",
    "    'dst_host_serror_rate',\n",
    "    'dst_host_srv_serror_rate',\n",
    "    'dst_host_rerror_rate',\n",
    "    'dst_host_srv_rerror_rate',\n",
    "    'outcome'\n",
    "]"
   ]
  },
  {
   "cell_type": "code",
   "execution_count": 28,
   "metadata": {},
   "outputs": [
    {
     "output_type": "execute_result",
     "data": {
      "text/plain": [
       "        duration protocol_type service flag  src_bytes  dst_bytes  land  \\\n",
       "0              0           tcp    http   SF        239        486     0   \n",
       "1              0           tcp    http   SF        235       1337     0   \n",
       "2              0           tcp    http   SF        219       1337     0   \n",
       "3              0           tcp    http   SF        217       2032     0   \n",
       "4              0           tcp    http   SF        217       2032     0   \n",
       "...          ...           ...     ...  ...        ...        ...   ...   \n",
       "494015         0           tcp    http   SF        310       1881     0   \n",
       "494016         0           tcp    http   SF        282       2286     0   \n",
       "494017         0           tcp    http   SF        203       1200     0   \n",
       "494018         0           tcp    http   SF        291       1200     0   \n",
       "494019         0           tcp    http   SF        219       1234     0   \n",
       "\n",
       "        wrong_fragment  urgent  hot  ...  dst_host_srv_count  \\\n",
       "0                    0       0    0  ...                  19   \n",
       "1                    0       0    0  ...                  29   \n",
       "2                    0       0    0  ...                  39   \n",
       "3                    0       0    0  ...                  49   \n",
       "4                    0       0    0  ...                  59   \n",
       "...                ...     ...  ...  ...                 ...   \n",
       "494015               0       0    0  ...                 255   \n",
       "494016               0       0    0  ...                 255   \n",
       "494017               0       0    0  ...                 255   \n",
       "494018               0       0    0  ...                 255   \n",
       "494019               0       0    0  ...                 255   \n",
       "\n",
       "        dst_host_same_srv_rate  dst_host_diff_srv_rate  \\\n",
       "0                          1.0                     0.0   \n",
       "1                          1.0                     0.0   \n",
       "2                          1.0                     0.0   \n",
       "3                          1.0                     0.0   \n",
       "4                          1.0                     0.0   \n",
       "...                        ...                     ...   \n",
       "494015                     1.0                     0.0   \n",
       "494016                     1.0                     0.0   \n",
       "494017                     1.0                     0.0   \n",
       "494018                     1.0                     0.0   \n",
       "494019                     1.0                     0.0   \n",
       "\n",
       "        dst_host_same_src_port_rate  dst_host_srv_diff_host_rate  \\\n",
       "0                              0.05                         0.00   \n",
       "1                              0.03                         0.00   \n",
       "2                              0.03                         0.00   \n",
       "3                              0.02                         0.00   \n",
       "4                              0.02                         0.00   \n",
       "...                             ...                          ...   \n",
       "494015                         0.01                         0.05   \n",
       "494016                         0.17                         0.05   \n",
       "494017                         0.06                         0.05   \n",
       "494018                         0.04                         0.05   \n",
       "494019                         0.17                         0.05   \n",
       "\n",
       "        dst_host_serror_rate  dst_host_srv_serror_rate  dst_host_rerror_rate  \\\n",
       "0                       0.00                      0.00                   0.0   \n",
       "1                       0.00                      0.00                   0.0   \n",
       "2                       0.00                      0.00                   0.0   \n",
       "3                       0.00                      0.00                   0.0   \n",
       "4                       0.00                      0.00                   0.0   \n",
       "...                      ...                       ...                   ...   \n",
       "494015                  0.00                      0.01                   0.0   \n",
       "494016                  0.00                      0.01                   0.0   \n",
       "494017                  0.06                      0.01                   0.0   \n",
       "494018                  0.04                      0.01                   0.0   \n",
       "494019                  0.00                      0.01                   0.0   \n",
       "\n",
       "        dst_host_srv_rerror_rate  outcome  \n",
       "0                            0.0  normal.  \n",
       "1                            0.0  normal.  \n",
       "2                            0.0  normal.  \n",
       "3                            0.0  normal.  \n",
       "4                            0.0  normal.  \n",
       "...                          ...      ...  \n",
       "494015                       0.0  normal.  \n",
       "494016                       0.0  normal.  \n",
       "494017                       0.0  normal.  \n",
       "494018                       0.0  normal.  \n",
       "494019                       0.0  normal.  \n",
       "\n",
       "[494020 rows x 42 columns]"
      ],
      "text/html": "<div>\n<style scoped>\n    .dataframe tbody tr th:only-of-type {\n        vertical-align: middle;\n    }\n\n    .dataframe tbody tr th {\n        vertical-align: top;\n    }\n\n    .dataframe thead th {\n        text-align: right;\n    }\n</style>\n<table border=\"1\" class=\"dataframe\">\n  <thead>\n    <tr style=\"text-align: right;\">\n      <th></th>\n      <th>duration</th>\n      <th>protocol_type</th>\n      <th>service</th>\n      <th>flag</th>\n      <th>src_bytes</th>\n      <th>dst_bytes</th>\n      <th>land</th>\n      <th>wrong_fragment</th>\n      <th>urgent</th>\n      <th>hot</th>\n      <th>...</th>\n      <th>dst_host_srv_count</th>\n      <th>dst_host_same_srv_rate</th>\n      <th>dst_host_diff_srv_rate</th>\n      <th>dst_host_same_src_port_rate</th>\n      <th>dst_host_srv_diff_host_rate</th>\n      <th>dst_host_serror_rate</th>\n      <th>dst_host_srv_serror_rate</th>\n      <th>dst_host_rerror_rate</th>\n      <th>dst_host_srv_rerror_rate</th>\n      <th>outcome</th>\n    </tr>\n  </thead>\n  <tbody>\n    <tr>\n      <th>0</th>\n      <td>0</td>\n      <td>tcp</td>\n      <td>http</td>\n      <td>SF</td>\n      <td>239</td>\n      <td>486</td>\n      <td>0</td>\n      <td>0</td>\n      <td>0</td>\n      <td>0</td>\n      <td>...</td>\n      <td>19</td>\n      <td>1.0</td>\n      <td>0.0</td>\n      <td>0.05</td>\n      <td>0.00</td>\n      <td>0.00</td>\n      <td>0.00</td>\n      <td>0.0</td>\n      <td>0.0</td>\n      <td>normal.</td>\n    </tr>\n    <tr>\n      <th>1</th>\n      <td>0</td>\n      <td>tcp</td>\n      <td>http</td>\n      <td>SF</td>\n      <td>235</td>\n      <td>1337</td>\n      <td>0</td>\n      <td>0</td>\n      <td>0</td>\n      <td>0</td>\n      <td>...</td>\n      <td>29</td>\n      <td>1.0</td>\n      <td>0.0</td>\n      <td>0.03</td>\n      <td>0.00</td>\n      <td>0.00</td>\n      <td>0.00</td>\n      <td>0.0</td>\n      <td>0.0</td>\n      <td>normal.</td>\n    </tr>\n    <tr>\n      <th>2</th>\n      <td>0</td>\n      <td>tcp</td>\n      <td>http</td>\n      <td>SF</td>\n      <td>219</td>\n      <td>1337</td>\n      <td>0</td>\n      <td>0</td>\n      <td>0</td>\n      <td>0</td>\n      <td>...</td>\n      <td>39</td>\n      <td>1.0</td>\n      <td>0.0</td>\n      <td>0.03</td>\n      <td>0.00</td>\n      <td>0.00</td>\n      <td>0.00</td>\n      <td>0.0</td>\n      <td>0.0</td>\n      <td>normal.</td>\n    </tr>\n    <tr>\n      <th>3</th>\n      <td>0</td>\n      <td>tcp</td>\n      <td>http</td>\n      <td>SF</td>\n      <td>217</td>\n      <td>2032</td>\n      <td>0</td>\n      <td>0</td>\n      <td>0</td>\n      <td>0</td>\n      <td>...</td>\n      <td>49</td>\n      <td>1.0</td>\n      <td>0.0</td>\n      <td>0.02</td>\n      <td>0.00</td>\n      <td>0.00</td>\n      <td>0.00</td>\n      <td>0.0</td>\n      <td>0.0</td>\n      <td>normal.</td>\n    </tr>\n    <tr>\n      <th>4</th>\n      <td>0</td>\n      <td>tcp</td>\n      <td>http</td>\n      <td>SF</td>\n      <td>217</td>\n      <td>2032</td>\n      <td>0</td>\n      <td>0</td>\n      <td>0</td>\n      <td>0</td>\n      <td>...</td>\n      <td>59</td>\n      <td>1.0</td>\n      <td>0.0</td>\n      <td>0.02</td>\n      <td>0.00</td>\n      <td>0.00</td>\n      <td>0.00</td>\n      <td>0.0</td>\n      <td>0.0</td>\n      <td>normal.</td>\n    </tr>\n    <tr>\n      <th>...</th>\n      <td>...</td>\n      <td>...</td>\n      <td>...</td>\n      <td>...</td>\n      <td>...</td>\n      <td>...</td>\n      <td>...</td>\n      <td>...</td>\n      <td>...</td>\n      <td>...</td>\n      <td>...</td>\n      <td>...</td>\n      <td>...</td>\n      <td>...</td>\n      <td>...</td>\n      <td>...</td>\n      <td>...</td>\n      <td>...</td>\n      <td>...</td>\n      <td>...</td>\n      <td>...</td>\n    </tr>\n    <tr>\n      <th>494015</th>\n      <td>0</td>\n      <td>tcp</td>\n      <td>http</td>\n      <td>SF</td>\n      <td>310</td>\n      <td>1881</td>\n      <td>0</td>\n      <td>0</td>\n      <td>0</td>\n      <td>0</td>\n      <td>...</td>\n      <td>255</td>\n      <td>1.0</td>\n      <td>0.0</td>\n      <td>0.01</td>\n      <td>0.05</td>\n      <td>0.00</td>\n      <td>0.01</td>\n      <td>0.0</td>\n      <td>0.0</td>\n      <td>normal.</td>\n    </tr>\n    <tr>\n      <th>494016</th>\n      <td>0</td>\n      <td>tcp</td>\n      <td>http</td>\n      <td>SF</td>\n      <td>282</td>\n      <td>2286</td>\n      <td>0</td>\n      <td>0</td>\n      <td>0</td>\n      <td>0</td>\n      <td>...</td>\n      <td>255</td>\n      <td>1.0</td>\n      <td>0.0</td>\n      <td>0.17</td>\n      <td>0.05</td>\n      <td>0.00</td>\n      <td>0.01</td>\n      <td>0.0</td>\n      <td>0.0</td>\n      <td>normal.</td>\n    </tr>\n    <tr>\n      <th>494017</th>\n      <td>0</td>\n      <td>tcp</td>\n      <td>http</td>\n      <td>SF</td>\n      <td>203</td>\n      <td>1200</td>\n      <td>0</td>\n      <td>0</td>\n      <td>0</td>\n      <td>0</td>\n      <td>...</td>\n      <td>255</td>\n      <td>1.0</td>\n      <td>0.0</td>\n      <td>0.06</td>\n      <td>0.05</td>\n      <td>0.06</td>\n      <td>0.01</td>\n      <td>0.0</td>\n      <td>0.0</td>\n      <td>normal.</td>\n    </tr>\n    <tr>\n      <th>494018</th>\n      <td>0</td>\n      <td>tcp</td>\n      <td>http</td>\n      <td>SF</td>\n      <td>291</td>\n      <td>1200</td>\n      <td>0</td>\n      <td>0</td>\n      <td>0</td>\n      <td>0</td>\n      <td>...</td>\n      <td>255</td>\n      <td>1.0</td>\n      <td>0.0</td>\n      <td>0.04</td>\n      <td>0.05</td>\n      <td>0.04</td>\n      <td>0.01</td>\n      <td>0.0</td>\n      <td>0.0</td>\n      <td>normal.</td>\n    </tr>\n    <tr>\n      <th>494019</th>\n      <td>0</td>\n      <td>tcp</td>\n      <td>http</td>\n      <td>SF</td>\n      <td>219</td>\n      <td>1234</td>\n      <td>0</td>\n      <td>0</td>\n      <td>0</td>\n      <td>0</td>\n      <td>...</td>\n      <td>255</td>\n      <td>1.0</td>\n      <td>0.0</td>\n      <td>0.17</td>\n      <td>0.05</td>\n      <td>0.00</td>\n      <td>0.01</td>\n      <td>0.0</td>\n      <td>0.0</td>\n      <td>normal.</td>\n    </tr>\n  </tbody>\n</table>\n<p>494020 rows × 42 columns</p>\n</div>"
     },
     "metadata": {},
     "execution_count": 28
    }
   ],
   "source": [
    "# print dataframe tuples\n",
    "df_csv"
   ]
  },
  {
   "cell_type": "markdown",
   "metadata": {},
   "source": [
    "# Data Preprocessing\n",
    "Before it can be used, the data first must be examined and cleaned. This means that redundant records and records with missing values will need to be removed"
   ]
  },
  {
   "cell_type": "code",
   "execution_count": 29,
   "metadata": {},
   "outputs": [
    {
     "output_type": "execute_result",
     "data": {
      "text/plain": [
       "0    87831\n",
       "1    57754\n",
       "Name: outcome, dtype: int64"
      ]
     },
     "metadata": {},
     "execution_count": 29
    }
   ],
   "source": [
    "# remove redundant records\n",
    "df_csv.drop_duplicates(subset=None, inplace=True)\n",
    "\n",
    "# remove values with missing values\n",
    "df_csv.dropna()\n",
    "\n",
    "# determine and remove any useless columns that may incorrectly influence the output\n",
    "\n",
    "# encode symbolic variables\n",
    "symbolic = [\n",
    "    'protocol_type',\n",
    "    'service',\n",
    "    'flag',\n",
    "    'land',\n",
    "    'logged_in',\n",
    "    'is_host_login',\n",
    "    'is_guest_login',\n",
    "]\n",
    "\n",
    "continuous = [\n",
    "    'duration',\n",
    "    'src_bytes',\n",
    "    'dst_bytes'\n",
    "]\n",
    "for i in symbolic:\n",
    "    encode_text_dummy(df_csv, i)\n",
    "for j in continuous:\n",
    "    encode_numeric_zscore(df_csv, j)\n",
    "    \n",
    "y = df_csv['outcome'].map(make_binary)\n",
    "# 0 for normal\n",
    "# 1 for attack\n",
    "y.value_counts()"
   ]
  },
  {
   "cell_type": "code",
   "execution_count": 30,
   "metadata": {},
   "outputs": [
    {
     "output_type": "execute_result",
     "data": {
      "text/plain": [
       "        duration  src_bytes  dst_bytes  wrong_fragment  urgent  hot  \\\n",
       "0       -0.10785  -0.004261  -0.039036               0       0    0   \n",
       "1       -0.10785  -0.004263  -0.025041               0       0    0   \n",
       "2       -0.10785  -0.004272  -0.025041               0       0    0   \n",
       "3       -0.10785  -0.004273  -0.013612               0       0    0   \n",
       "4       -0.10785  -0.004273  -0.013612               0       0    0   \n",
       "...          ...        ...        ...             ...     ...  ...   \n",
       "494015  -0.10785  -0.004222  -0.016095               0       0    0   \n",
       "494016  -0.10785  -0.004237  -0.009435               0       0    0   \n",
       "494017  -0.10785  -0.004281  -0.027294               0       0    0   \n",
       "494018  -0.10785  -0.004232  -0.027294               0       0    0   \n",
       "494019  -0.10785  -0.004272  -0.026735               0       0    0   \n",
       "\n",
       "        num_failed_logins  num_compromised  root_shell  su_attempted  ...  \\\n",
       "0                       0                0           0             0  ...   \n",
       "1                       0                0           0             0  ...   \n",
       "2                       0                0           0             0  ...   \n",
       "3                       0                0           0             0  ...   \n",
       "4                       0                0           0             0  ...   \n",
       "...                   ...              ...         ...           ...  ...   \n",
       "494015                  0                0           0             0  ...   \n",
       "494016                  0                0           0             0  ...   \n",
       "494017                  0                0           0             0  ...   \n",
       "494018                  0                0           0             0  ...   \n",
       "494019                  0                0           0             0  ...   \n",
       "\n",
       "        flag-S3  flag-SF  flag-SH  land-0  land-1  logged_in-0  logged_in-1  \\\n",
       "0             0        1        0       1       0            0            1   \n",
       "1             0        1        0       1       0            0            1   \n",
       "2             0        1        0       1       0            0            1   \n",
       "3             0        1        0       1       0            0            1   \n",
       "4             0        1        0       1       0            0            1   \n",
       "...         ...      ...      ...     ...     ...          ...          ...   \n",
       "494015        0        1        0       1       0            0            1   \n",
       "494016        0        1        0       1       0            0            1   \n",
       "494017        0        1        0       1       0            0            1   \n",
       "494018        0        1        0       1       0            0            1   \n",
       "494019        0        1        0       1       0            0            1   \n",
       "\n",
       "        is_host_login-0  is_guest_login-0  is_guest_login-1  \n",
       "0                     1                 1                 0  \n",
       "1                     1                 1                 0  \n",
       "2                     1                 1                 0  \n",
       "3                     1                 1                 0  \n",
       "4                     1                 1                 0  \n",
       "...                 ...               ...               ...  \n",
       "494015                1                 1                 0  \n",
       "494016                1                 1                 0  \n",
       "494017                1                 1                 0  \n",
       "494018                1                 1                 0  \n",
       "494019                1                 1                 0  \n",
       "\n",
       "[145585 rows x 122 columns]"
      ],
      "text/html": "<div>\n<style scoped>\n    .dataframe tbody tr th:only-of-type {\n        vertical-align: middle;\n    }\n\n    .dataframe tbody tr th {\n        vertical-align: top;\n    }\n\n    .dataframe thead th {\n        text-align: right;\n    }\n</style>\n<table border=\"1\" class=\"dataframe\">\n  <thead>\n    <tr style=\"text-align: right;\">\n      <th></th>\n      <th>duration</th>\n      <th>src_bytes</th>\n      <th>dst_bytes</th>\n      <th>wrong_fragment</th>\n      <th>urgent</th>\n      <th>hot</th>\n      <th>num_failed_logins</th>\n      <th>num_compromised</th>\n      <th>root_shell</th>\n      <th>su_attempted</th>\n      <th>...</th>\n      <th>flag-S3</th>\n      <th>flag-SF</th>\n      <th>flag-SH</th>\n      <th>land-0</th>\n      <th>land-1</th>\n      <th>logged_in-0</th>\n      <th>logged_in-1</th>\n      <th>is_host_login-0</th>\n      <th>is_guest_login-0</th>\n      <th>is_guest_login-1</th>\n    </tr>\n  </thead>\n  <tbody>\n    <tr>\n      <th>0</th>\n      <td>-0.10785</td>\n      <td>-0.004261</td>\n      <td>-0.039036</td>\n      <td>0</td>\n      <td>0</td>\n      <td>0</td>\n      <td>0</td>\n      <td>0</td>\n      <td>0</td>\n      <td>0</td>\n      <td>...</td>\n      <td>0</td>\n      <td>1</td>\n      <td>0</td>\n      <td>1</td>\n      <td>0</td>\n      <td>0</td>\n      <td>1</td>\n      <td>1</td>\n      <td>1</td>\n      <td>0</td>\n    </tr>\n    <tr>\n      <th>1</th>\n      <td>-0.10785</td>\n      <td>-0.004263</td>\n      <td>-0.025041</td>\n      <td>0</td>\n      <td>0</td>\n      <td>0</td>\n      <td>0</td>\n      <td>0</td>\n      <td>0</td>\n      <td>0</td>\n      <td>...</td>\n      <td>0</td>\n      <td>1</td>\n      <td>0</td>\n      <td>1</td>\n      <td>0</td>\n      <td>0</td>\n      <td>1</td>\n      <td>1</td>\n      <td>1</td>\n      <td>0</td>\n    </tr>\n    <tr>\n      <th>2</th>\n      <td>-0.10785</td>\n      <td>-0.004272</td>\n      <td>-0.025041</td>\n      <td>0</td>\n      <td>0</td>\n      <td>0</td>\n      <td>0</td>\n      <td>0</td>\n      <td>0</td>\n      <td>0</td>\n      <td>...</td>\n      <td>0</td>\n      <td>1</td>\n      <td>0</td>\n      <td>1</td>\n      <td>0</td>\n      <td>0</td>\n      <td>1</td>\n      <td>1</td>\n      <td>1</td>\n      <td>0</td>\n    </tr>\n    <tr>\n      <th>3</th>\n      <td>-0.10785</td>\n      <td>-0.004273</td>\n      <td>-0.013612</td>\n      <td>0</td>\n      <td>0</td>\n      <td>0</td>\n      <td>0</td>\n      <td>0</td>\n      <td>0</td>\n      <td>0</td>\n      <td>...</td>\n      <td>0</td>\n      <td>1</td>\n      <td>0</td>\n      <td>1</td>\n      <td>0</td>\n      <td>0</td>\n      <td>1</td>\n      <td>1</td>\n      <td>1</td>\n      <td>0</td>\n    </tr>\n    <tr>\n      <th>4</th>\n      <td>-0.10785</td>\n      <td>-0.004273</td>\n      <td>-0.013612</td>\n      <td>0</td>\n      <td>0</td>\n      <td>0</td>\n      <td>0</td>\n      <td>0</td>\n      <td>0</td>\n      <td>0</td>\n      <td>...</td>\n      <td>0</td>\n      <td>1</td>\n      <td>0</td>\n      <td>1</td>\n      <td>0</td>\n      <td>0</td>\n      <td>1</td>\n      <td>1</td>\n      <td>1</td>\n      <td>0</td>\n    </tr>\n    <tr>\n      <th>...</th>\n      <td>...</td>\n      <td>...</td>\n      <td>...</td>\n      <td>...</td>\n      <td>...</td>\n      <td>...</td>\n      <td>...</td>\n      <td>...</td>\n      <td>...</td>\n      <td>...</td>\n      <td>...</td>\n      <td>...</td>\n      <td>...</td>\n      <td>...</td>\n      <td>...</td>\n      <td>...</td>\n      <td>...</td>\n      <td>...</td>\n      <td>...</td>\n      <td>...</td>\n      <td>...</td>\n    </tr>\n    <tr>\n      <th>494015</th>\n      <td>-0.10785</td>\n      <td>-0.004222</td>\n      <td>-0.016095</td>\n      <td>0</td>\n      <td>0</td>\n      <td>0</td>\n      <td>0</td>\n      <td>0</td>\n      <td>0</td>\n      <td>0</td>\n      <td>...</td>\n      <td>0</td>\n      <td>1</td>\n      <td>0</td>\n      <td>1</td>\n      <td>0</td>\n      <td>0</td>\n      <td>1</td>\n      <td>1</td>\n      <td>1</td>\n      <td>0</td>\n    </tr>\n    <tr>\n      <th>494016</th>\n      <td>-0.10785</td>\n      <td>-0.004237</td>\n      <td>-0.009435</td>\n      <td>0</td>\n      <td>0</td>\n      <td>0</td>\n      <td>0</td>\n      <td>0</td>\n      <td>0</td>\n      <td>0</td>\n      <td>...</td>\n      <td>0</td>\n      <td>1</td>\n      <td>0</td>\n      <td>1</td>\n      <td>0</td>\n      <td>0</td>\n      <td>1</td>\n      <td>1</td>\n      <td>1</td>\n      <td>0</td>\n    </tr>\n    <tr>\n      <th>494017</th>\n      <td>-0.10785</td>\n      <td>-0.004281</td>\n      <td>-0.027294</td>\n      <td>0</td>\n      <td>0</td>\n      <td>0</td>\n      <td>0</td>\n      <td>0</td>\n      <td>0</td>\n      <td>0</td>\n      <td>...</td>\n      <td>0</td>\n      <td>1</td>\n      <td>0</td>\n      <td>1</td>\n      <td>0</td>\n      <td>0</td>\n      <td>1</td>\n      <td>1</td>\n      <td>1</td>\n      <td>0</td>\n    </tr>\n    <tr>\n      <th>494018</th>\n      <td>-0.10785</td>\n      <td>-0.004232</td>\n      <td>-0.027294</td>\n      <td>0</td>\n      <td>0</td>\n      <td>0</td>\n      <td>0</td>\n      <td>0</td>\n      <td>0</td>\n      <td>0</td>\n      <td>...</td>\n      <td>0</td>\n      <td>1</td>\n      <td>0</td>\n      <td>1</td>\n      <td>0</td>\n      <td>0</td>\n      <td>1</td>\n      <td>1</td>\n      <td>1</td>\n      <td>0</td>\n    </tr>\n    <tr>\n      <th>494019</th>\n      <td>-0.10785</td>\n      <td>-0.004272</td>\n      <td>-0.026735</td>\n      <td>0</td>\n      <td>0</td>\n      <td>0</td>\n      <td>0</td>\n      <td>0</td>\n      <td>0</td>\n      <td>0</td>\n      <td>...</td>\n      <td>0</td>\n      <td>1</td>\n      <td>0</td>\n      <td>1</td>\n      <td>0</td>\n      <td>0</td>\n      <td>1</td>\n      <td>1</td>\n      <td>1</td>\n      <td>0</td>\n    </tr>\n  </tbody>\n</table>\n<p>145585 rows × 122 columns</p>\n</div>"
     },
     "metadata": {},
     "execution_count": 30
    }
   ],
   "source": [
    "# verify data frame\n",
    "df_csv"
   ]
  },
  {
   "cell_type": "code",
   "execution_count": 8,
   "metadata": {},
   "outputs": [],
   "source": [
    "# drop outcomes\n",
    "df_csv = df_csv.drop('outcome', axis=1)"
   ]
  },
  {
   "cell_type": "code",
   "execution_count": 9,
   "metadata": {},
   "outputs": [],
   "source": [
    "# convert to numpy array\n",
    "df = df_csv.to_numpy()\n",
    "df_x = df.reshape(len(df_csv), 1, len(df_csv.columns), 1)"
   ]
  },
  {
   "cell_type": "code",
   "execution_count": 10,
   "metadata": {},
   "outputs": [
    {
     "output_type": "execute_result",
     "data": {
      "text/plain": [
       "array([[[[-0.10785025],\n",
       "         [-0.00426104],\n",
       "         [-0.03903572],\n",
       "         ...,\n",
       "         [ 1.        ],\n",
       "         [ 1.        ],\n",
       "         [ 0.        ]]],\n",
       "\n",
       "\n",
       "       [[[-0.10785025],\n",
       "         [-0.00426324],\n",
       "         [-0.02504131],\n",
       "         ...,\n",
       "         [ 1.        ],\n",
       "         [ 1.        ],\n",
       "         [ 0.        ]]],\n",
       "\n",
       "\n",
       "       [[[-0.10785025],\n",
       "         [-0.00427203],\n",
       "         [-0.02504131],\n",
       "         ...,\n",
       "         [ 1.        ],\n",
       "         [ 1.        ],\n",
       "         [ 0.        ]]],\n",
       "\n",
       "\n",
       "       ...,\n",
       "\n",
       "\n",
       "       [[[-0.10785025],\n",
       "         [-0.00428082],\n",
       "         [-0.02729423],\n",
       "         ...,\n",
       "         [ 1.        ],\n",
       "         [ 1.        ],\n",
       "         [ 0.        ]]],\n",
       "\n",
       "\n",
       "       [[[-0.10785025],\n",
       "         [-0.00423248],\n",
       "         [-0.02729423],\n",
       "         ...,\n",
       "         [ 1.        ],\n",
       "         [ 1.        ],\n",
       "         [ 0.        ]]],\n",
       "\n",
       "\n",
       "       [[[-0.10785025],\n",
       "         [-0.00427203],\n",
       "         [-0.02673511],\n",
       "         ...,\n",
       "         [ 1.        ],\n",
       "         [ 1.        ],\n",
       "         [ 0.        ]]]])"
      ]
     },
     "metadata": {},
     "execution_count": 10
    }
   ],
   "source": [
    "df_x"
   ]
  },
  {
   "cell_type": "markdown",
   "metadata": {},
   "source": [
    "# Split into train/test set"
   ]
  },
  {
   "cell_type": "code",
   "execution_count": 11,
   "metadata": {},
   "outputs": [],
   "source": [
    "x_train, x_test, y_train, y_test = train_test_split(df_x, y, test_size=0.25, random_state=42)\n",
    "x_train = x_train.astype('float32')\n",
    "x_test = x_test.astype('float32')\n",
    "y_train = tf.keras.utils.to_categorical(y_train, 2)\n",
    "y_test = tf.keras.utils.to_categorical(y_test, 2)"
   ]
  },
  {
   "cell_type": "code",
   "execution_count": 12,
   "metadata": {},
   "outputs": [
    {
     "output_type": "stream",
     "name": "stdout",
     "text": [
      "(109188, 1, 121, 1)\n(109188, 2)\n(36397, 1, 121, 1)\n(36397, 2)\n"
     ]
    }
   ],
   "source": [
    "# print shapes\n",
    "print(x_train.shape)\n",
    "print(y_train.shape)\n",
    "print(x_test.shape)\n",
    "print(y_test.shape)"
   ]
  },
  {
   "cell_type": "markdown",
   "metadata": {},
   "source": [
    "# Prepare Convolutional Model"
   ]
  },
  {
   "cell_type": "code",
   "execution_count": 13,
   "metadata": {},
   "outputs": [
    {
     "output_type": "stream",
     "name": "stdout",
     "text": [
      "WARNING:tensorflow:From C:\\Users\\ashle\\anaconda3\\lib\\site-packages\\tensorflow\\python\\ops\\init_ops.py:1251: calling VarianceScaling.__init__ (from tensorflow.python.ops.init_ops) with dtype is deprecated and will be removed in a future version.\nInstructions for updating:\nCall initializer instance with the dtype argument instead of passing it to the constructor\n"
     ]
    }
   ],
   "source": [
    "from tensorflow.keras.optimizers import Adam\n",
    "convnet = Sequential()\n",
    "# add convnet layers\n",
    "input_shape = (1,121,1)\n",
    "\n",
    "convnet.add(Conv2D(200, kernel_size=(1, 5), strides=(1, 1), padding='valid',\n",
    "                 activation='relu',\n",
    "                 input_shape=input_shape))\n",
    "convnet.add(Conv2D(150, (1, 4), activation='relu'))\n",
    "convnet.add(MaxPooling2D(pool_size=(1, 2), strides=None))\n",
    "convnet.add(Dropout(0.25))\n",
    "\n",
    "convnet.add(Flatten())\n",
    "\n",
    "convnet.add(Dense(100, activation='relu'))\n",
    "\n",
    "convnet.add(Dropout(0.25))\n",
    "\n",
    "convnet.add(Dense(2, activation='softmax'))\n",
    "\n",
    "# compile convnet\n",
    "convnet.compile(loss=tf.keras.losses.categorical_crossentropy, optimizer=Adam(lr=0.001, decay=1e-6), metrics=['accuracy'])"
   ]
  },
  {
   "cell_type": "code",
   "execution_count": 14,
   "metadata": {},
   "outputs": [
    {
     "output_type": "stream",
     "name": "stdout",
     "text": [
      "Model: \"sequential\"\n_________________________________________________________________\nLayer (type)                 Output Shape              Param #   \n=================================================================\nconv2d (Conv2D)              (None, 1, 117, 200)       1200      \n_________________________________________________________________\nconv2d_1 (Conv2D)            (None, 1, 114, 150)       120150    \n_________________________________________________________________\nmax_pooling2d (MaxPooling2D) (None, 1, 57, 150)        0         \n_________________________________________________________________\ndropout (Dropout)            (None, 1, 57, 150)        0         \n_________________________________________________________________\nflatten (Flatten)            (None, 8550)              0         \n_________________________________________________________________\ndense (Dense)                (None, 100)               855100    \n_________________________________________________________________\ndropout_1 (Dropout)          (None, 100)               0         \n_________________________________________________________________\ndense_1 (Dense)              (None, 2)                 202       \n=================================================================\nTotal params: 976,652\nTrainable params: 976,652\nNon-trainable params: 0\n_________________________________________________________________\n"
     ]
    }
   ],
   "source": [
    "# print convnet summary\n",
    "convnet.summary()"
   ]
  },
  {
   "cell_type": "markdown",
   "metadata": {},
   "source": [
    "# Fit and train model"
   ]
  },
  {
   "cell_type": "code",
   "execution_count": 15,
   "metadata": {},
   "outputs": [
    {
     "output_type": "stream",
     "name": "stdout",
     "text": [
      "Train on 109188 samples, validate on 36397 samples\n",
      "Epoch 1/1000\n",
      "109188/109188 - 11s - loss: 0.0635 - acc: 0.9844 - val_loss: 0.0127 - val_acc: 0.9957\n",
      "Epoch 2/1000\n",
      "109188/109188 - 8s - loss: 0.0143 - acc: 0.9961 - val_loss: 0.0084 - val_acc: 0.9978\n",
      "Epoch 3/1000\n",
      "109188/109188 - 8s - loss: 0.0120 - acc: 0.9968 - val_loss: 0.0076 - val_acc: 0.9977\n",
      "Epoch 4/1000\n",
      "109188/109188 - 8s - loss: 0.0114 - acc: 0.9968 - val_loss: 0.0070 - val_acc: 0.9977\n",
      "Epoch 5/1000\n",
      "109188/109188 - 8s - loss: 0.0108 - acc: 0.9972 - val_loss: 0.0068 - val_acc: 0.9983\n",
      "Epoch 6/1000\n",
      "109188/109188 - 8s - loss: 0.0098 - acc: 0.9973 - val_loss: 0.0064 - val_acc: 0.9982\n",
      "Epoch 7/1000\n",
      "109188/109188 - 8s - loss: 0.0084 - acc: 0.9976 - val_loss: 0.0063 - val_acc: 0.9980\n",
      "Epoch 8/1000\n",
      "109188/109188 - 8s - loss: 0.0078 - acc: 0.9977 - val_loss: 0.0058 - val_acc: 0.9980\n",
      "Epoch 9/1000\n",
      "109188/109188 - 8s - loss: 0.0074 - acc: 0.9978 - val_loss: 0.0057 - val_acc: 0.9982\n",
      "Epoch 10/1000\n",
      "109188/109188 - 8s - loss: 0.0066 - acc: 0.9980 - val_loss: 0.0060 - val_acc: 0.9983\n",
      "Epoch 11/1000\n",
      "109188/109188 - 8s - loss: 0.0071 - acc: 0.9979 - val_loss: 0.0061 - val_acc: 0.9983\n",
      "Epoch 12/1000\n",
      "109188/109188 - 8s - loss: 0.0064 - acc: 0.9983 - val_loss: 0.0045 - val_acc: 0.9987\n",
      "Epoch 13/1000\n",
      "109188/109188 - 7s - loss: 0.0063 - acc: 0.9982 - val_loss: 0.0050 - val_acc: 0.9985\n",
      "Epoch 14/1000\n",
      "109188/109188 - 8s - loss: 0.0059 - acc: 0.9984 - val_loss: 0.0044 - val_acc: 0.9989\n",
      "Epoch 15/1000\n",
      "109188/109188 - 8s - loss: 0.0056 - acc: 0.9983 - val_loss: 0.0048 - val_acc: 0.9987\n",
      "Epoch 16/1000\n",
      "109188/109188 - 8s - loss: 0.0055 - acc: 0.9984 - val_loss: 0.0039 - val_acc: 0.9988\n",
      "Epoch 17/1000\n",
      "109188/109188 - 8s - loss: 0.0056 - acc: 0.9984 - val_loss: 0.0057 - val_acc: 0.9980\n",
      "Epoch 18/1000\n",
      "109188/109188 - 8s - loss: 0.0051 - acc: 0.9986 - val_loss: 0.0036 - val_acc: 0.9989\n",
      "Epoch 19/1000\n",
      "109188/109188 - 7s - loss: 0.0052 - acc: 0.9986 - val_loss: 0.0043 - val_acc: 0.9989\n",
      "Epoch 20/1000\n",
      "109188/109188 - 8s - loss: 0.0048 - acc: 0.9986 - val_loss: 0.0045 - val_acc: 0.9987\n",
      "Epoch 21/1000\n",
      "109188/109188 - 8s - loss: 0.0045 - acc: 0.9987 - val_loss: 0.0045 - val_acc: 0.9988\n",
      "Epoch 22/1000\n",
      "109188/109188 - 8s - loss: 0.0044 - acc: 0.9987 - val_loss: 0.0045 - val_acc: 0.9985\n",
      "Epoch 23/1000\n",
      "109188/109188 - 8s - loss: 0.0045 - acc: 0.9987 - val_loss: 0.0046 - val_acc: 0.9988\n",
      "Epoch 24/1000\n",
      "109188/109188 - 8s - loss: 0.0045 - acc: 0.9984 - val_loss: 0.0047 - val_acc: 0.9986\n",
      "Epoch 25/1000\n",
      "109188/109188 - 8s - loss: 0.0048 - acc: 0.9987 - val_loss: 0.0043 - val_acc: 0.9985\n",
      "Epoch 26/1000\n",
      "109188/109188 - 8s - loss: 0.0040 - acc: 0.9989 - val_loss: 0.0036 - val_acc: 0.9988\n",
      "Epoch 27/1000\n",
      "109188/109188 - 8s - loss: 0.0041 - acc: 0.9987 - val_loss: 0.0038 - val_acc: 0.9989\n",
      "Epoch 28/1000\n",
      "109188/109188 - 8s - loss: 0.0040 - acc: 0.9988 - val_loss: 0.0039 - val_acc: 0.9986\n",
      "Epoch 29/1000\n",
      "109188/109188 - 8s - loss: 0.0040 - acc: 0.9988 - val_loss: 0.0036 - val_acc: 0.9990\n",
      "Epoch 30/1000\n",
      "109188/109188 - 8s - loss: 0.0039 - acc: 0.9988 - val_loss: 0.0038 - val_acc: 0.9990\n",
      "Epoch 31/1000\n",
      "109188/109188 - 8s - loss: 0.0041 - acc: 0.9989 - val_loss: 0.0048 - val_acc: 0.9988\n",
      "Epoch 32/1000\n",
      "109188/109188 - 8s - loss: 0.0037 - acc: 0.9989 - val_loss: 0.0045 - val_acc: 0.9987\n",
      "Epoch 33/1000\n",
      "109188/109188 - 8s - loss: 0.0039 - acc: 0.9989 - val_loss: 0.0048 - val_acc: 0.9989\n",
      "Epoch 34/1000\n",
      "109188/109188 - 8s - loss: 0.0038 - acc: 0.9989 - val_loss: 0.0035 - val_acc: 0.9988\n",
      "Epoch 35/1000\n",
      "109188/109188 - 8s - loss: 0.0034 - acc: 0.9989 - val_loss: 0.0032 - val_acc: 0.9991\n",
      "Epoch 36/1000\n",
      "109188/109188 - 8s - loss: 0.0031 - acc: 0.9990 - val_loss: 0.0037 - val_acc: 0.9990\n",
      "Epoch 37/1000\n",
      "109188/109188 - 8s - loss: 0.0036 - acc: 0.9989 - val_loss: 0.0035 - val_acc: 0.9990\n",
      "Epoch 38/1000\n",
      "109188/109188 - 8s - loss: 0.0031 - acc: 0.9991 - val_loss: 0.0041 - val_acc: 0.9988\n",
      "Epoch 39/1000\n",
      "109188/109188 - 8s - loss: 0.0032 - acc: 0.9989 - val_loss: 0.0036 - val_acc: 0.9990\n",
      "Epoch 40/1000\n",
      "109188/109188 - 8s - loss: 0.0034 - acc: 0.9988 - val_loss: 0.0035 - val_acc: 0.9990\n",
      "Epoch 41/1000\n",
      "109188/109188 - 8s - loss: 0.0028 - acc: 0.9991 - val_loss: 0.0050 - val_acc: 0.9989\n",
      "Epoch 42/1000\n",
      "109188/109188 - 8s - loss: 0.0032 - acc: 0.9990 - val_loss: 0.0046 - val_acc: 0.9990\n",
      "Epoch 43/1000\n",
      "109188/109188 - 8s - loss: 0.0031 - acc: 0.9990 - val_loss: 0.0037 - val_acc: 0.9989\n",
      "Epoch 44/1000\n",
      "109188/109188 - 8s - loss: 0.0031 - acc: 0.9991 - val_loss: 0.0034 - val_acc: 0.9989\n",
      "Epoch 45/1000\n",
      "109188/109188 - 8s - loss: 0.0029 - acc: 0.9991 - val_loss: 0.0032 - val_acc: 0.9991\n",
      "Epoch 46/1000\n",
      "109188/109188 - 8s - loss: 0.0031 - acc: 0.9989 - val_loss: 0.0031 - val_acc: 0.9991\n",
      "Epoch 47/1000\n",
      "109188/109188 - 8s - loss: 0.0029 - acc: 0.9990 - val_loss: 0.0035 - val_acc: 0.9990\n",
      "Epoch 48/1000\n",
      "109188/109188 - 8s - loss: 0.0028 - acc: 0.9991 - val_loss: 0.0034 - val_acc: 0.9990\n",
      "Epoch 49/1000\n",
      "109188/109188 - 8s - loss: 0.0029 - acc: 0.9990 - val_loss: 0.0031 - val_acc: 0.9990\n",
      "Epoch 50/1000\n",
      "109188/109188 - 8s - loss: 0.0025 - acc: 0.9992 - val_loss: 0.0044 - val_acc: 0.9990\n",
      "Epoch 51/1000\n",
      "109188/109188 - 8s - loss: 0.0029 - acc: 0.9991 - val_loss: 0.0035 - val_acc: 0.9991\n",
      "Epoch 52/1000\n",
      "109188/109188 - 8s - loss: 0.0026 - acc: 0.9991 - val_loss: 0.0043 - val_acc: 0.9990\n",
      "Epoch 53/1000\n",
      "109188/109188 - 8s - loss: 0.0030 - acc: 0.9991 - val_loss: 0.0055 - val_acc: 0.9984\n",
      "Epoch 54/1000\n",
      "109188/109188 - 8s - loss: 0.0027 - acc: 0.9989 - val_loss: 0.0038 - val_acc: 0.9989\n",
      "Epoch 55/1000\n",
      "109188/109188 - 8s - loss: 0.0023 - acc: 0.9992 - val_loss: 0.0038 - val_acc: 0.9989\n",
      "Epoch 56/1000\n",
      "109188/109188 - 8s - loss: 0.0025 - acc: 0.9991 - val_loss: 0.0051 - val_acc: 0.9990\n",
      "Epoch 57/1000\n",
      "109188/109188 - 8s - loss: 0.0027 - acc: 0.9992 - val_loss: 0.0032 - val_acc: 0.9990\n",
      "Epoch 58/1000\n",
      "109188/109188 - 8s - loss: 0.0025 - acc: 0.9991 - val_loss: 0.0037 - val_acc: 0.9990\n",
      "Epoch 59/1000\n",
      "109188/109188 - 8s - loss: 0.0029 - acc: 0.9992 - val_loss: 0.0033 - val_acc: 0.9991\n",
      "Epoch 60/1000\n",
      "109188/109188 - 8s - loss: 0.0022 - acc: 0.9994 - val_loss: 0.0044 - val_acc: 0.9991\n",
      "Epoch 61/1000\n",
      "109188/109188 - 8s - loss: 0.0025 - acc: 0.9992 - val_loss: 0.0042 - val_acc: 0.9990\n",
      "Epoch 62/1000\n",
      "109188/109188 - 8s - loss: 0.0025 - acc: 0.9992 - val_loss: 0.0034 - val_acc: 0.9992\n",
      "Epoch 63/1000\n",
      "109188/109188 - 8s - loss: 0.0024 - acc: 0.9992 - val_loss: 0.0043 - val_acc: 0.9991\n",
      "Epoch 64/1000\n",
      "109188/109188 - 8s - loss: 0.0024 - acc: 0.9992 - val_loss: 0.0045 - val_acc: 0.9991\n",
      "Epoch 65/1000\n",
      "109188/109188 - 8s - loss: 0.0025 - acc: 0.9992 - val_loss: 0.0052 - val_acc: 0.9991\n",
      "Epoch 66/1000\n",
      "109188/109188 - 8s - loss: 0.0023 - acc: 0.9992 - val_loss: 0.0040 - val_acc: 0.9991\n",
      "Epoch 00066: early stopping\n",
      "Elapsed Time: 0:08:42.57\n"
     ]
    }
   ],
   "source": [
    "start_time = time.time()\n",
    "batch = 128\n",
    "\n",
    "monitor = EarlyStopping(monitor='val_loss', min_delta=1e-6, patience=20, verbose=2, mode='auto')\n",
    "checkpoint = ModelCheckpoint(filepath=weights, verbose=0, save_best_only=True)\n",
    "\n",
    "# fit convnet\n",
    "convnet.fit(x_train, y_train, batch_size=batch, callbacks=[monitor, checkpoint], epochs=1000, verbose=2, validation_data=(x_test, y_test))\n",
    "\n",
    "# load weights\n",
    "convnet.load_weights(weights)\n",
    "elapsed_time = time.time() - start_time\n",
    "print(\"Elapsed Time: {}\".format(hms_string(elapsed_time)))"
   ]
  },
  {
   "cell_type": "code",
   "execution_count": 16,
   "metadata": {},
   "outputs": [
    {
     "output_type": "stream",
     "name": "stdout",
     "text": [
      "Test loss: 0.00017801251093260361\nTest accuracy: 1.0\n"
     ]
    }
   ],
   "source": [
    "# evaluate() computes the loss and accuracy\n",
    "score = convnet.evaluate(x_test[0:100], y_test[0:100], verbose=0)\n",
    "score\n",
    "print('Test loss: {}'.format(score[0]))\n",
    "print('Test accuracy: {}'.format(score[1]))"
   ]
  },
  {
   "cell_type": "code",
   "execution_count": 121,
   "metadata": {},
   "outputs": [],
   "source": [
    "# Ding when complete\n",
    "if os.name == 'nt':\n",
    "    ding()\n",
    "else:\n",
    "    print(\"Completed\")\n"
   ]
  },
  {
   "cell_type": "markdown",
   "metadata": {},
   "source": [
    "# Perform predictions"
   ]
  },
  {
   "cell_type": "code",
   "execution_count": 35,
   "metadata": {},
   "outputs": [
    {
     "output_type": "stream",
     "name": "stdout",
     "text": [
      "Accuracy: 0.9990658570761326\nAveraged F1: 0.9990658460602845\n              precision    recall  f1-score   support\n\n           0       1.00      1.00      1.00     21938\n           1       1.00      1.00      1.00     14459\n\n    accuracy                           1.00     36397\n   macro avg       1.00      1.00      1.00     36397\nweighted avg       1.00      1.00      1.00     36397\n\n"
     ]
    }
   ],
   "source": [
    "from sklearn import metrics\n",
    "\n",
    "y_true = np.argmax(y_test[0:109188],axis=1)\n",
    "pred = convnet.predict(x_test[0:109188])\n",
    "pred = np.argmax(pred,axis=1)\n",
    "\n",
    "\n",
    "score = metrics.accuracy_score(y_true, pred)\n",
    "print('Accuracy: {}'.format(score))\n",
    "\n",
    "\n",
    "f1 = metrics.f1_score(y_true, pred, average='weighted')\n",
    "print('Averaged F1: {}'.format(f1))\n",
    "\n",
    "\n",
    "print(metrics.classification_report(y_true, pred))"
   ]
  },
  {
   "cell_type": "markdown",
   "metadata": {},
   "source": [
    "# Model Evaluation\n",
    "As a classification model, this model will be evaluated on the following metrics: \n",
    " * Accuracy\n",
    " * Precision\n",
    " * Recall\n",
    " * F1 Score\n",
    " * Log Loss\n",
    " * Confusion Matrix\n",
    " * ROC Curve"
   ]
  },
  {
   "cell_type": "code",
   "execution_count": 40,
   "metadata": {},
   "outputs": [
    {
     "output_type": "stream",
     "name": "stdout",
     "text": [
      "[[21922    16]\n [   18 14441]]\nPlotting confusion matrix\n"
     ]
    },
    {
     "output_type": "display_data",
     "data": {
      "text/plain": "<Figure size 432x288 with 2 Axes>",
      "image/svg+xml": "<?xml version=\"1.0\" encoding=\"utf-8\" standalone=\"no\"?>\r\n<!DOCTYPE svg PUBLIC \"-//W3C//DTD SVG 1.1//EN\"\r\n  \"http://www.w3.org/Graphics/SVG/1.1/DTD/svg11.dtd\">\r\n<!-- Created with matplotlib (https://matplotlib.org/) -->\r\n<svg height=\"293.260374pt\" version=\"1.1\" viewBox=\"0 0 352.768778 293.260374\" width=\"352.768778pt\" xmlns=\"http://www.w3.org/2000/svg\" xmlns:xlink=\"http://www.w3.org/1999/xlink\">\r\n <defs>\r\n  <style type=\"text/css\">\r\n*{stroke-linecap:butt;stroke-linejoin:round;}\r\n  </style>\r\n </defs>\r\n <g id=\"figure_1\">\r\n  <g id=\"patch_1\">\r\n   <path d=\"M -0 293.260374 \r\nL 352.768778 293.260374 \r\nL 352.768778 0 \r\nL -0 0 \r\nz\r\n\" style=\"fill:none;\"/>\r\n  </g>\r\n  <g id=\"axes_1\">\r\n   <g id=\"patch_2\">\r\n    <path d=\"M 67.975 230.186009 \r\nL 275.842884 230.186009 \r\nL 275.842884 22.318125 \r\nL 67.975 22.318125 \r\nz\r\n\" style=\"fill:#ffffff;\"/>\r\n   </g>\r\n   <g clip-path=\"url(#p5ff69bd311)\">\r\n    <image height=\"208\" id=\"image54db9a085b\" transform=\"scale(1 -1)translate(0 -208)\" width=\"208\" x=\"67.975\" xlink:href=\"data:image/png;base64,\r\niVBORw0KGgoAAAANSUhEUgAAANAAAADQCAYAAAB2pO90AAAABHNCSVQICAgIfAhkiAAAAmVJREFUeJzt1aERwlAABUGCSjnUQDv0gkpFWIpBIhA/FRBz4sPMbgXP3Lzl/RnjxM+63h+zJ3DgPHsA/DMBQSAgCAQEgYAgEBAEAoJAQBAICAIBQSAgCAQEgYAgEBAEAoJAQBAICAIBQSAgCAQEgYAgEBAEAoJAQBAICAIBQSAgCAQEgYAgEBAEAoJAQBAICAIBQSAgCAQEgYAgEBAEAoJAQBAICAIBQSAgCAQEgYAgEBAEAoJAQBAICAIBQSAgCAQEgYAgEBAEAoJAQBAICAIBQSAgCAQEgYAgEBAEAoJAQBAICAIBQSAgCAQEgYAgEBAEAoJAQBAICAIBQSAgCAQEgYAgEBAEAoJAQBAICAIBQSAgCAQEgYAgEBAEAoJAQBAICAIBQSAgCAQEgYAgEBAEAoJAQBAICAIBQSAgCAQEgYAgEBAEAoJgWS+3MXsE372e2+wJHPBAEAgIAgFBICAIBASBgCAQEAQCgkBAEAgIAgFBICAIBASBgCAQEAQCgkBAEAgIAgFBICAIBASBgCAQEAQCgkBAEAgIAgFBICAIBASBgCAQEAQCgkBAEAgIAgFBICAIBASBgCAQEAQCgkBAEAgIAgFBICAIBASBgCAQEAQCgkBAEAgIAgFBICAIBASBgCAQEAQCgkBAEAgIAgFBICAIBASBgCAQEAQCgkBAEAgIAgFBICAIBASBgCAQEAQCgkBAEAgIAgFBICAIBASBgCAQEAQCgkBAEAgIAgFBICAIBASBgCAQEAQCgkBAEAgIAgFBICAIBASBgCAQEAQCgkBAEAgIAgFBICAIBASBgCAQEAQ7W5ILEe75h6EAAAAASUVORK5CYII=\" y=\"-22.186009\"/>\r\n   </g>\r\n   <g id=\"matplotlib.axis_1\">\r\n    <g id=\"xtick_1\">\r\n     <g id=\"line2d_1\">\r\n      <defs>\r\n       <path d=\"M 0 0 \r\nL 0 3.5 \r\n\" id=\"m60b44023d4\" style=\"stroke:#000000;stroke-width:0.8;\"/>\r\n      </defs>\r\n      <g>\r\n       <use style=\"stroke:#000000;stroke-width:0.8;\" x=\"119.941971\" xlink:href=\"#m60b44023d4\" y=\"230.186009\"/>\r\n      </g>\r\n     </g>\r\n     <g id=\"text_1\">\r\n      <!-- normal -->\r\n      <defs>\r\n       <path d=\"M 54.890625 33.015625 \r\nL 54.890625 0 \r\nL 45.90625 0 \r\nL 45.90625 32.71875 \r\nQ 45.90625 40.484375 42.875 44.328125 \r\nQ 39.84375 48.1875 33.796875 48.1875 \r\nQ 26.515625 48.1875 22.3125 43.546875 \r\nQ 18.109375 38.921875 18.109375 30.90625 \r\nL 18.109375 0 \r\nL 9.078125 0 \r\nL 9.078125 54.6875 \r\nL 18.109375 54.6875 \r\nL 18.109375 46.1875 \r\nQ 21.34375 51.125 25.703125 53.5625 \r\nQ 30.078125 56 35.796875 56 \r\nQ 45.21875 56 50.046875 50.171875 \r\nQ 54.890625 44.34375 54.890625 33.015625 \r\nz\r\n\" id=\"DejaVuSans-110\"/>\r\n       <path d=\"M 30.609375 48.390625 \r\nQ 23.390625 48.390625 19.1875 42.75 \r\nQ 14.984375 37.109375 14.984375 27.296875 \r\nQ 14.984375 17.484375 19.15625 11.84375 \r\nQ 23.34375 6.203125 30.609375 6.203125 \r\nQ 37.796875 6.203125 41.984375 11.859375 \r\nQ 46.1875 17.53125 46.1875 27.296875 \r\nQ 46.1875 37.015625 41.984375 42.703125 \r\nQ 37.796875 48.390625 30.609375 48.390625 \r\nz\r\nM 30.609375 56 \r\nQ 42.328125 56 49.015625 48.375 \r\nQ 55.71875 40.765625 55.71875 27.296875 \r\nQ 55.71875 13.875 49.015625 6.21875 \r\nQ 42.328125 -1.421875 30.609375 -1.421875 \r\nQ 18.84375 -1.421875 12.171875 6.21875 \r\nQ 5.515625 13.875 5.515625 27.296875 \r\nQ 5.515625 40.765625 12.171875 48.375 \r\nQ 18.84375 56 30.609375 56 \r\nz\r\n\" id=\"DejaVuSans-111\"/>\r\n       <path d=\"M 41.109375 46.296875 \r\nQ 39.59375 47.171875 37.8125 47.578125 \r\nQ 36.03125 48 33.890625 48 \r\nQ 26.265625 48 22.1875 43.046875 \r\nQ 18.109375 38.09375 18.109375 28.8125 \r\nL 18.109375 0 \r\nL 9.078125 0 \r\nL 9.078125 54.6875 \r\nL 18.109375 54.6875 \r\nL 18.109375 46.1875 \r\nQ 20.953125 51.171875 25.484375 53.578125 \r\nQ 30.03125 56 36.53125 56 \r\nQ 37.453125 56 38.578125 55.875 \r\nQ 39.703125 55.765625 41.0625 55.515625 \r\nz\r\n\" id=\"DejaVuSans-114\"/>\r\n       <path d=\"M 52 44.1875 \r\nQ 55.375 50.25 60.0625 53.125 \r\nQ 64.75 56 71.09375 56 \r\nQ 79.640625 56 84.28125 50.015625 \r\nQ 88.921875 44.046875 88.921875 33.015625 \r\nL 88.921875 0 \r\nL 79.890625 0 \r\nL 79.890625 32.71875 \r\nQ 79.890625 40.578125 77.09375 44.375 \r\nQ 74.3125 48.1875 68.609375 48.1875 \r\nQ 61.625 48.1875 57.5625 43.546875 \r\nQ 53.515625 38.921875 53.515625 30.90625 \r\nL 53.515625 0 \r\nL 44.484375 0 \r\nL 44.484375 32.71875 \r\nQ 44.484375 40.625 41.703125 44.40625 \r\nQ 38.921875 48.1875 33.109375 48.1875 \r\nQ 26.21875 48.1875 22.15625 43.53125 \r\nQ 18.109375 38.875 18.109375 30.90625 \r\nL 18.109375 0 \r\nL 9.078125 0 \r\nL 9.078125 54.6875 \r\nL 18.109375 54.6875 \r\nL 18.109375 46.1875 \r\nQ 21.1875 51.21875 25.484375 53.609375 \r\nQ 29.78125 56 35.6875 56 \r\nQ 41.65625 56 45.828125 52.96875 \r\nQ 50 49.953125 52 44.1875 \r\nz\r\n\" id=\"DejaVuSans-109\"/>\r\n       <path d=\"M 34.28125 27.484375 \r\nQ 23.390625 27.484375 19.1875 25 \r\nQ 14.984375 22.515625 14.984375 16.5 \r\nQ 14.984375 11.71875 18.140625 8.90625 \r\nQ 21.296875 6.109375 26.703125 6.109375 \r\nQ 34.1875 6.109375 38.703125 11.40625 \r\nQ 43.21875 16.703125 43.21875 25.484375 \r\nL 43.21875 27.484375 \r\nz\r\nM 52.203125 31.203125 \r\nL 52.203125 0 \r\nL 43.21875 0 \r\nL 43.21875 8.296875 \r\nQ 40.140625 3.328125 35.546875 0.953125 \r\nQ 30.953125 -1.421875 24.3125 -1.421875 \r\nQ 15.921875 -1.421875 10.953125 3.296875 \r\nQ 6 8.015625 6 15.921875 \r\nQ 6 25.140625 12.171875 29.828125 \r\nQ 18.359375 34.515625 30.609375 34.515625 \r\nL 43.21875 34.515625 \r\nL 43.21875 35.40625 \r\nQ 43.21875 41.609375 39.140625 45 \r\nQ 35.0625 48.390625 27.6875 48.390625 \r\nQ 23 48.390625 18.546875 47.265625 \r\nQ 14.109375 46.140625 10.015625 43.890625 \r\nL 10.015625 52.203125 \r\nQ 14.9375 54.109375 19.578125 55.046875 \r\nQ 24.21875 56 28.609375 56 \r\nQ 40.484375 56 46.34375 49.84375 \r\nQ 52.203125 43.703125 52.203125 31.203125 \r\nz\r\n\" id=\"DejaVuSans-97\"/>\r\n       <path d=\"M 9.421875 75.984375 \r\nL 18.40625 75.984375 \r\nL 18.40625 0 \r\nL 9.421875 0 \r\nz\r\n\" id=\"DejaVuSans-108\"/>\r\n      </defs>\r\n      <g transform=\"translate(109.443645 267.457913)rotate(-45)scale(0.1 -0.1)\">\r\n       <use xlink:href=\"#DejaVuSans-110\"/>\r\n       <use x=\"63.378906\" xlink:href=\"#DejaVuSans-111\"/>\r\n       <use x=\"124.560547\" xlink:href=\"#DejaVuSans-114\"/>\r\n       <use x=\"165.658203\" xlink:href=\"#DejaVuSans-109\"/>\r\n       <use x=\"263.070312\" xlink:href=\"#DejaVuSans-97\"/>\r\n       <use x=\"324.349609\" xlink:href=\"#DejaVuSans-108\"/>\r\n      </g>\r\n     </g>\r\n    </g>\r\n    <g id=\"xtick_2\">\r\n     <g id=\"line2d_2\">\r\n      <g>\r\n       <use style=\"stroke:#000000;stroke-width:0.8;\" x=\"223.875913\" xlink:href=\"#m60b44023d4\" y=\"230.186009\"/>\r\n      </g>\r\n     </g>\r\n     <g id=\"text_2\">\r\n      <!-- intruder -->\r\n      <defs>\r\n       <path d=\"M 9.421875 54.6875 \r\nL 18.40625 54.6875 \r\nL 18.40625 0 \r\nL 9.421875 0 \r\nz\r\nM 9.421875 75.984375 \r\nL 18.40625 75.984375 \r\nL 18.40625 64.59375 \r\nL 9.421875 64.59375 \r\nz\r\n\" id=\"DejaVuSans-105\"/>\r\n       <path d=\"M 18.3125 70.21875 \r\nL 18.3125 54.6875 \r\nL 36.8125 54.6875 \r\nL 36.8125 47.703125 \r\nL 18.3125 47.703125 \r\nL 18.3125 18.015625 \r\nQ 18.3125 11.328125 20.140625 9.421875 \r\nQ 21.96875 7.515625 27.59375 7.515625 \r\nL 36.8125 7.515625 \r\nL 36.8125 0 \r\nL 27.59375 0 \r\nQ 17.1875 0 13.234375 3.875 \r\nQ 9.28125 7.765625 9.28125 18.015625 \r\nL 9.28125 47.703125 \r\nL 2.6875 47.703125 \r\nL 2.6875 54.6875 \r\nL 9.28125 54.6875 \r\nL 9.28125 70.21875 \r\nz\r\n\" id=\"DejaVuSans-116\"/>\r\n       <path d=\"M 8.5 21.578125 \r\nL 8.5 54.6875 \r\nL 17.484375 54.6875 \r\nL 17.484375 21.921875 \r\nQ 17.484375 14.15625 20.5 10.265625 \r\nQ 23.53125 6.390625 29.59375 6.390625 \r\nQ 36.859375 6.390625 41.078125 11.03125 \r\nQ 45.3125 15.671875 45.3125 23.6875 \r\nL 45.3125 54.6875 \r\nL 54.296875 54.6875 \r\nL 54.296875 0 \r\nL 45.3125 0 \r\nL 45.3125 8.40625 \r\nQ 42.046875 3.421875 37.71875 1 \r\nQ 33.40625 -1.421875 27.6875 -1.421875 \r\nQ 18.265625 -1.421875 13.375 4.4375 \r\nQ 8.5 10.296875 8.5 21.578125 \r\nz\r\nM 31.109375 56 \r\nz\r\n\" id=\"DejaVuSans-117\"/>\r\n       <path d=\"M 45.40625 46.390625 \r\nL 45.40625 75.984375 \r\nL 54.390625 75.984375 \r\nL 54.390625 0 \r\nL 45.40625 0 \r\nL 45.40625 8.203125 \r\nQ 42.578125 3.328125 38.25 0.953125 \r\nQ 33.9375 -1.421875 27.875 -1.421875 \r\nQ 17.96875 -1.421875 11.734375 6.484375 \r\nQ 5.515625 14.40625 5.515625 27.296875 \r\nQ 5.515625 40.1875 11.734375 48.09375 \r\nQ 17.96875 56 27.875 56 \r\nQ 33.9375 56 38.25 53.625 \r\nQ 42.578125 51.265625 45.40625 46.390625 \r\nz\r\nM 14.796875 27.296875 \r\nQ 14.796875 17.390625 18.875 11.75 \r\nQ 22.953125 6.109375 30.078125 6.109375 \r\nQ 37.203125 6.109375 41.296875 11.75 \r\nQ 45.40625 17.390625 45.40625 27.296875 \r\nQ 45.40625 37.203125 41.296875 42.84375 \r\nQ 37.203125 48.484375 30.078125 48.484375 \r\nQ 22.953125 48.484375 18.875 42.84375 \r\nQ 14.796875 37.203125 14.796875 27.296875 \r\nz\r\n\" id=\"DejaVuSans-100\"/>\r\n       <path d=\"M 56.203125 29.59375 \r\nL 56.203125 25.203125 \r\nL 14.890625 25.203125 \r\nQ 15.484375 15.921875 20.484375 11.0625 \r\nQ 25.484375 6.203125 34.421875 6.203125 \r\nQ 39.59375 6.203125 44.453125 7.46875 \r\nQ 49.3125 8.734375 54.109375 11.28125 \r\nL 54.109375 2.78125 \r\nQ 49.265625 0.734375 44.1875 -0.34375 \r\nQ 39.109375 -1.421875 33.890625 -1.421875 \r\nQ 20.796875 -1.421875 13.15625 6.1875 \r\nQ 5.515625 13.8125 5.515625 26.8125 \r\nQ 5.515625 40.234375 12.765625 48.109375 \r\nQ 20.015625 56 32.328125 56 \r\nQ 43.359375 56 49.78125 48.890625 \r\nQ 56.203125 41.796875 56.203125 29.59375 \r\nz\r\nM 47.21875 32.234375 \r\nQ 47.125 39.59375 43.09375 43.984375 \r\nQ 39.0625 48.390625 32.421875 48.390625 \r\nQ 24.90625 48.390625 20.390625 44.140625 \r\nQ 15.875 39.890625 15.1875 32.171875 \r\nz\r\n\" id=\"DejaVuSans-101\"/>\r\n      </defs>\r\n      <g transform=\"translate(211.6507 270.911688)rotate(-45)scale(0.1 -0.1)\">\r\n       <use xlink:href=\"#DejaVuSans-105\"/>\r\n       <use x=\"27.783203\" xlink:href=\"#DejaVuSans-110\"/>\r\n       <use x=\"91.162109\" xlink:href=\"#DejaVuSans-116\"/>\r\n       <use x=\"130.371094\" xlink:href=\"#DejaVuSans-114\"/>\r\n       <use x=\"171.484375\" xlink:href=\"#DejaVuSans-117\"/>\r\n       <use x=\"234.863281\" xlink:href=\"#DejaVuSans-100\"/>\r\n       <use x=\"298.339844\" xlink:href=\"#DejaVuSans-101\"/>\r\n       <use x=\"359.863281\" xlink:href=\"#DejaVuSans-114\"/>\r\n      </g>\r\n     </g>\r\n    </g>\r\n    <g id=\"text_3\">\r\n     <!-- Predicted label -->\r\n     <defs>\r\n      <path d=\"M 19.671875 64.796875 \r\nL 19.671875 37.40625 \r\nL 32.078125 37.40625 \r\nQ 38.96875 37.40625 42.71875 40.96875 \r\nQ 46.484375 44.53125 46.484375 51.125 \r\nQ 46.484375 57.671875 42.71875 61.234375 \r\nQ 38.96875 64.796875 32.078125 64.796875 \r\nz\r\nM 9.8125 72.90625 \r\nL 32.078125 72.90625 \r\nQ 44.34375 72.90625 50.609375 67.359375 \r\nQ 56.890625 61.8125 56.890625 51.125 \r\nQ 56.890625 40.328125 50.609375 34.8125 \r\nQ 44.34375 29.296875 32.078125 29.296875 \r\nL 19.671875 29.296875 \r\nL 19.671875 0 \r\nL 9.8125 0 \r\nz\r\n\" id=\"DejaVuSans-80\"/>\r\n      <path d=\"M 48.78125 52.59375 \r\nL 48.78125 44.1875 \r\nQ 44.96875 46.296875 41.140625 47.34375 \r\nQ 37.3125 48.390625 33.40625 48.390625 \r\nQ 24.65625 48.390625 19.8125 42.84375 \r\nQ 14.984375 37.3125 14.984375 27.296875 \r\nQ 14.984375 17.28125 19.8125 11.734375 \r\nQ 24.65625 6.203125 33.40625 6.203125 \r\nQ 37.3125 6.203125 41.140625 7.25 \r\nQ 44.96875 8.296875 48.78125 10.40625 \r\nL 48.78125 2.09375 \r\nQ 45.015625 0.34375 40.984375 -0.53125 \r\nQ 36.96875 -1.421875 32.421875 -1.421875 \r\nQ 20.0625 -1.421875 12.78125 6.34375 \r\nQ 5.515625 14.109375 5.515625 27.296875 \r\nQ 5.515625 40.671875 12.859375 48.328125 \r\nQ 20.21875 56 33.015625 56 \r\nQ 37.15625 56 41.109375 55.140625 \r\nQ 45.0625 54.296875 48.78125 52.59375 \r\nz\r\n\" id=\"DejaVuSans-99\"/>\r\n      <path id=\"DejaVuSans-32\"/>\r\n      <path d=\"M 48.6875 27.296875 \r\nQ 48.6875 37.203125 44.609375 42.84375 \r\nQ 40.53125 48.484375 33.40625 48.484375 \r\nQ 26.265625 48.484375 22.1875 42.84375 \r\nQ 18.109375 37.203125 18.109375 27.296875 \r\nQ 18.109375 17.390625 22.1875 11.75 \r\nQ 26.265625 6.109375 33.40625 6.109375 \r\nQ 40.53125 6.109375 44.609375 11.75 \r\nQ 48.6875 17.390625 48.6875 27.296875 \r\nz\r\nM 18.109375 46.390625 \r\nQ 20.953125 51.265625 25.265625 53.625 \r\nQ 29.59375 56 35.59375 56 \r\nQ 45.5625 56 51.78125 48.09375 \r\nQ 58.015625 40.1875 58.015625 27.296875 \r\nQ 58.015625 14.40625 51.78125 6.484375 \r\nQ 45.5625 -1.421875 35.59375 -1.421875 \r\nQ 29.59375 -1.421875 25.265625 0.953125 \r\nQ 20.953125 3.328125 18.109375 8.203125 \r\nL 18.109375 0 \r\nL 9.078125 0 \r\nL 9.078125 75.984375 \r\nL 18.109375 75.984375 \r\nz\r\n\" id=\"DejaVuSans-98\"/>\r\n     </defs>\r\n     <g transform=\"translate(134.558942 283.980687)scale(0.1 -0.1)\">\r\n      <use xlink:href=\"#DejaVuSans-80\"/>\r\n      <use x=\"60.287109\" xlink:href=\"#DejaVuSans-114\"/>\r\n      <use x=\"101.369141\" xlink:href=\"#DejaVuSans-101\"/>\r\n      <use x=\"162.892578\" xlink:href=\"#DejaVuSans-100\"/>\r\n      <use x=\"226.369141\" xlink:href=\"#DejaVuSans-105\"/>\r\n      <use x=\"254.152344\" xlink:href=\"#DejaVuSans-99\"/>\r\n      <use x=\"309.132812\" xlink:href=\"#DejaVuSans-116\"/>\r\n      <use x=\"348.341797\" xlink:href=\"#DejaVuSans-101\"/>\r\n      <use x=\"409.865234\" xlink:href=\"#DejaVuSans-100\"/>\r\n      <use x=\"473.341797\" xlink:href=\"#DejaVuSans-32\"/>\r\n      <use x=\"505.128906\" xlink:href=\"#DejaVuSans-108\"/>\r\n      <use x=\"532.912109\" xlink:href=\"#DejaVuSans-97\"/>\r\n      <use x=\"594.191406\" xlink:href=\"#DejaVuSans-98\"/>\r\n      <use x=\"657.667969\" xlink:href=\"#DejaVuSans-101\"/>\r\n      <use x=\"719.191406\" xlink:href=\"#DejaVuSans-108\"/>\r\n     </g>\r\n    </g>\r\n   </g>\r\n   <g id=\"matplotlib.axis_2\">\r\n    <g id=\"ytick_1\">\r\n     <g id=\"line2d_3\">\r\n      <defs>\r\n       <path d=\"M 0 0 \r\nL -3.5 0 \r\n\" id=\"m9dd38e4ccf\" style=\"stroke:#000000;stroke-width:0.8;\"/>\r\n      </defs>\r\n      <g>\r\n       <use style=\"stroke:#000000;stroke-width:0.8;\" x=\"67.975\" xlink:href=\"#m9dd38e4ccf\" y=\"74.285096\"/>\r\n      </g>\r\n     </g>\r\n     <g id=\"text_4\">\r\n      <!-- normal -->\r\n      <g transform=\"translate(25.7625 78.084315)scale(0.1 -0.1)\">\r\n       <use xlink:href=\"#DejaVuSans-110\"/>\r\n       <use x=\"63.378906\" xlink:href=\"#DejaVuSans-111\"/>\r\n       <use x=\"124.560547\" xlink:href=\"#DejaVuSans-114\"/>\r\n       <use x=\"165.658203\" xlink:href=\"#DejaVuSans-109\"/>\r\n       <use x=\"263.070312\" xlink:href=\"#DejaVuSans-97\"/>\r\n       <use x=\"324.349609\" xlink:href=\"#DejaVuSans-108\"/>\r\n      </g>\r\n     </g>\r\n    </g>\r\n    <g id=\"ytick_2\">\r\n     <g id=\"line2d_4\">\r\n      <g>\r\n       <use style=\"stroke:#000000;stroke-width:0.8;\" x=\"67.975\" xlink:href=\"#m9dd38e4ccf\" y=\"178.219038\"/>\r\n      </g>\r\n     </g>\r\n     <g id=\"text_5\">\r\n      <!-- intruder -->\r\n      <g transform=\"translate(20.878125 182.018257)scale(0.1 -0.1)\">\r\n       <use xlink:href=\"#DejaVuSans-105\"/>\r\n       <use x=\"27.783203\" xlink:href=\"#DejaVuSans-110\"/>\r\n       <use x=\"91.162109\" xlink:href=\"#DejaVuSans-116\"/>\r\n       <use x=\"130.371094\" xlink:href=\"#DejaVuSans-114\"/>\r\n       <use x=\"171.484375\" xlink:href=\"#DejaVuSans-117\"/>\r\n       <use x=\"234.863281\" xlink:href=\"#DejaVuSans-100\"/>\r\n       <use x=\"298.339844\" xlink:href=\"#DejaVuSans-101\"/>\r\n       <use x=\"359.863281\" xlink:href=\"#DejaVuSans-114\"/>\r\n      </g>\r\n     </g>\r\n    </g>\r\n    <g id=\"text_6\">\r\n     <!-- True label -->\r\n     <defs>\r\n      <path d=\"M -0.296875 72.90625 \r\nL 61.375 72.90625 \r\nL 61.375 64.59375 \r\nL 35.5 64.59375 \r\nL 35.5 0 \r\nL 25.59375 0 \r\nL 25.59375 64.59375 \r\nL -0.296875 64.59375 \r\nz\r\n\" id=\"DejaVuSans-84\"/>\r\n     </defs>\r\n     <g transform=\"translate(14.798438 151.277848)rotate(-90)scale(0.1 -0.1)\">\r\n      <use xlink:href=\"#DejaVuSans-84\"/>\r\n      <use x=\"60.865234\" xlink:href=\"#DejaVuSans-114\"/>\r\n      <use x=\"101.978516\" xlink:href=\"#DejaVuSans-117\"/>\r\n      <use x=\"165.357422\" xlink:href=\"#DejaVuSans-101\"/>\r\n      <use x=\"226.880859\" xlink:href=\"#DejaVuSans-32\"/>\r\n      <use x=\"258.667969\" xlink:href=\"#DejaVuSans-108\"/>\r\n      <use x=\"286.451172\" xlink:href=\"#DejaVuSans-97\"/>\r\n      <use x=\"347.730469\" xlink:href=\"#DejaVuSans-98\"/>\r\n      <use x=\"411.207031\" xlink:href=\"#DejaVuSans-101\"/>\r\n      <use x=\"472.730469\" xlink:href=\"#DejaVuSans-108\"/>\r\n     </g>\r\n    </g>\r\n   </g>\r\n   <g id=\"patch_3\">\r\n    <path d=\"M 67.975 230.186009 \r\nL 67.975 22.318125 \r\n\" style=\"fill:none;stroke:#000000;stroke-linecap:square;stroke-linejoin:miter;stroke-width:0.8;\"/>\r\n   </g>\r\n   <g id=\"patch_4\">\r\n    <path d=\"M 275.842884 230.186009 \r\nL 275.842884 22.318125 \r\n\" style=\"fill:none;stroke:#000000;stroke-linecap:square;stroke-linejoin:miter;stroke-width:0.8;\"/>\r\n   </g>\r\n   <g id=\"patch_5\">\r\n    <path d=\"M 67.975 230.186009 \r\nL 275.842884 230.186009 \r\n\" style=\"fill:none;stroke:#000000;stroke-linecap:square;stroke-linejoin:miter;stroke-width:0.8;\"/>\r\n   </g>\r\n   <g id=\"patch_6\">\r\n    <path d=\"M 67.975 22.318125 \r\nL 275.842884 22.318125 \r\n\" style=\"fill:none;stroke:#000000;stroke-linecap:square;stroke-linejoin:miter;stroke-width:0.8;\"/>\r\n   </g>\r\n   <g id=\"text_7\">\r\n    <!-- Confusion matrix -->\r\n    <defs>\r\n     <path d=\"M 64.40625 67.28125 \r\nL 64.40625 56.890625 \r\nQ 59.421875 61.53125 53.78125 63.8125 \r\nQ 48.140625 66.109375 41.796875 66.109375 \r\nQ 29.296875 66.109375 22.65625 58.46875 \r\nQ 16.015625 50.828125 16.015625 36.375 \r\nQ 16.015625 21.96875 22.65625 14.328125 \r\nQ 29.296875 6.6875 41.796875 6.6875 \r\nQ 48.140625 6.6875 53.78125 8.984375 \r\nQ 59.421875 11.28125 64.40625 15.921875 \r\nL 64.40625 5.609375 \r\nQ 59.234375 2.09375 53.4375 0.328125 \r\nQ 47.65625 -1.421875 41.21875 -1.421875 \r\nQ 24.65625 -1.421875 15.125 8.703125 \r\nQ 5.609375 18.84375 5.609375 36.375 \r\nQ 5.609375 53.953125 15.125 64.078125 \r\nQ 24.65625 74.21875 41.21875 74.21875 \r\nQ 47.75 74.21875 53.53125 72.484375 \r\nQ 59.328125 70.75 64.40625 67.28125 \r\nz\r\n\" id=\"DejaVuSans-67\"/>\r\n     <path d=\"M 37.109375 75.984375 \r\nL 37.109375 68.5 \r\nL 28.515625 68.5 \r\nQ 23.6875 68.5 21.796875 66.546875 \r\nQ 19.921875 64.59375 19.921875 59.515625 \r\nL 19.921875 54.6875 \r\nL 34.71875 54.6875 \r\nL 34.71875 47.703125 \r\nL 19.921875 47.703125 \r\nL 19.921875 0 \r\nL 10.890625 0 \r\nL 10.890625 47.703125 \r\nL 2.296875 47.703125 \r\nL 2.296875 54.6875 \r\nL 10.890625 54.6875 \r\nL 10.890625 58.5 \r\nQ 10.890625 67.625 15.140625 71.796875 \r\nQ 19.390625 75.984375 28.609375 75.984375 \r\nz\r\n\" id=\"DejaVuSans-102\"/>\r\n     <path d=\"M 44.28125 53.078125 \r\nL 44.28125 44.578125 \r\nQ 40.484375 46.53125 36.375 47.5 \r\nQ 32.28125 48.484375 27.875 48.484375 \r\nQ 21.1875 48.484375 17.84375 46.4375 \r\nQ 14.5 44.390625 14.5 40.28125 \r\nQ 14.5 37.15625 16.890625 35.375 \r\nQ 19.28125 33.59375 26.515625 31.984375 \r\nL 29.59375 31.296875 \r\nQ 39.15625 29.25 43.1875 25.515625 \r\nQ 47.21875 21.78125 47.21875 15.09375 \r\nQ 47.21875 7.46875 41.1875 3.015625 \r\nQ 35.15625 -1.421875 24.609375 -1.421875 \r\nQ 20.21875 -1.421875 15.453125 -0.5625 \r\nQ 10.6875 0.296875 5.421875 2 \r\nL 5.421875 11.28125 \r\nQ 10.40625 8.6875 15.234375 7.390625 \r\nQ 20.0625 6.109375 24.8125 6.109375 \r\nQ 31.15625 6.109375 34.5625 8.28125 \r\nQ 37.984375 10.453125 37.984375 14.40625 \r\nQ 37.984375 18.0625 35.515625 20.015625 \r\nQ 33.0625 21.96875 24.703125 23.78125 \r\nL 21.578125 24.515625 \r\nQ 13.234375 26.265625 9.515625 29.90625 \r\nQ 5.8125 33.546875 5.8125 39.890625 \r\nQ 5.8125 47.609375 11.28125 51.796875 \r\nQ 16.75 56 26.8125 56 \r\nQ 31.78125 56 36.171875 55.265625 \r\nQ 40.578125 54.546875 44.28125 53.078125 \r\nz\r\n\" id=\"DejaVuSans-115\"/>\r\n     <path d=\"M 54.890625 54.6875 \r\nL 35.109375 28.078125 \r\nL 55.90625 0 \r\nL 45.3125 0 \r\nL 29.390625 21.484375 \r\nL 13.484375 0 \r\nL 2.875 0 \r\nL 24.125 28.609375 \r\nL 4.6875 54.6875 \r\nL 15.28125 54.6875 \r\nL 29.78125 35.203125 \r\nL 44.28125 54.6875 \r\nz\r\n\" id=\"DejaVuSans-120\"/>\r\n    </defs>\r\n    <g transform=\"translate(120.599567 16.318125)scale(0.12 -0.12)\">\r\n     <use xlink:href=\"#DejaVuSans-67\"/>\r\n     <use x=\"69.824219\" xlink:href=\"#DejaVuSans-111\"/>\r\n     <use x=\"131.005859\" xlink:href=\"#DejaVuSans-110\"/>\r\n     <use x=\"194.384766\" xlink:href=\"#DejaVuSans-102\"/>\r\n     <use x=\"229.589844\" xlink:href=\"#DejaVuSans-117\"/>\r\n     <use x=\"292.96875\" xlink:href=\"#DejaVuSans-115\"/>\r\n     <use x=\"345.068359\" xlink:href=\"#DejaVuSans-105\"/>\r\n     <use x=\"372.851562\" xlink:href=\"#DejaVuSans-111\"/>\r\n     <use x=\"434.033203\" xlink:href=\"#DejaVuSans-110\"/>\r\n     <use x=\"497.412109\" xlink:href=\"#DejaVuSans-32\"/>\r\n     <use x=\"529.199219\" xlink:href=\"#DejaVuSans-109\"/>\r\n     <use x=\"626.611328\" xlink:href=\"#DejaVuSans-97\"/>\r\n     <use x=\"687.890625\" xlink:href=\"#DejaVuSans-116\"/>\r\n     <use x=\"727.099609\" xlink:href=\"#DejaVuSans-114\"/>\r\n     <use x=\"768.212891\" xlink:href=\"#DejaVuSans-105\"/>\r\n     <use x=\"795.996094\" xlink:href=\"#DejaVuSans-120\"/>\r\n    </g>\r\n   </g>\r\n  </g>\r\n  <g id=\"axes_2\">\r\n   <g id=\"patch_7\">\r\n    <path clip-path=\"url(#p378f5f4aac)\" d=\"M 296.362884 230.186009 \r\nL 296.362884 229.374025 \r\nL 296.362884 23.130109 \r\nL 296.362884 22.318125 \r\nL 306.756278 22.318125 \r\nL 306.756278 23.130109 \r\nL 306.756278 229.374025 \r\nL 306.756278 230.186009 \r\nz\r\n\" style=\"fill:#ffffff;stroke:#ffffff;stroke-linejoin:miter;stroke-width:0.01;\"/>\r\n   </g>\r\n   <image height=\"208\" id=\"imagec38062548c\" transform=\"scale(1 -1)translate(0 -208)\" width=\"11\" x=\"296\" xlink:href=\"data:image/png;base64,\r\niVBORw0KGgoAAAANSUhEUgAAAAsAAADQCAYAAADRVZvKAAAABHNCSVQICAgIfAhkiAAAARBJREFUaIHtmEEKAyEQBA34/+fmEOKY6+ZmBWppg3tuhtIpR9nH8zVnW/z6bMvZ1kG2dZBtvdaRTQxAAbeOVT4YX5VJmIhkYqAwYfYwtFFQGRj/P5GOSLdgHJFuwtA6ODZcIGPWMNAZRPIj5hLfGyFNIWGCYcpPRCKVC2gnzmezKaCyeKwQM2iheGDRRBpEJPbeQPJ7C8xww2sKvCZIWJM/xA3xmggZX+x0Z0x+TX7PuhCRvL89sCnaPqOXecbVFrLPISJVrd8TOcz7NQUyWxgxC4xwY8emoAPL/tcxZi0sinSYL+EMZk9ReLUd5h8rTzaRUBgtUKtcb6uyyDwiMFBlxEzGF1zgacolzJgz5AeVP8HZ0u+1/UZLAAAAAElFTkSuQmCC\" y=\"-22\"/>\r\n   <g id=\"matplotlib.axis_3\"/>\r\n   <g id=\"matplotlib.axis_4\">\r\n    <g id=\"ytick_3\">\r\n     <g id=\"line2d_5\">\r\n      <defs>\r\n       <path d=\"M 0 0 \r\nL 3.5 0 \r\n\" id=\"mb35c6a2c24\" style=\"stroke:#000000;stroke-width:0.8;\"/>\r\n      </defs>\r\n      <g>\r\n       <use style=\"stroke:#000000;stroke-width:0.8;\" x=\"306.756278\" xlink:href=\"#mb35c6a2c24\" y=\"206.615123\"/>\r\n      </g>\r\n     </g>\r\n     <g id=\"text_8\">\r\n      <!-- 2500 -->\r\n      <defs>\r\n       <path d=\"M 19.1875 8.296875 \r\nL 53.609375 8.296875 \r\nL 53.609375 0 \r\nL 7.328125 0 \r\nL 7.328125 8.296875 \r\nQ 12.9375 14.109375 22.625 23.890625 \r\nQ 32.328125 33.6875 34.8125 36.53125 \r\nQ 39.546875 41.84375 41.421875 45.53125 \r\nQ 43.3125 49.21875 43.3125 52.78125 \r\nQ 43.3125 58.59375 39.234375 62.25 \r\nQ 35.15625 65.921875 28.609375 65.921875 \r\nQ 23.96875 65.921875 18.8125 64.3125 \r\nQ 13.671875 62.703125 7.8125 59.421875 \r\nL 7.8125 69.390625 \r\nQ 13.765625 71.78125 18.9375 73 \r\nQ 24.125 74.21875 28.421875 74.21875 \r\nQ 39.75 74.21875 46.484375 68.546875 \r\nQ 53.21875 62.890625 53.21875 53.421875 \r\nQ 53.21875 48.921875 51.53125 44.890625 \r\nQ 49.859375 40.875 45.40625 35.40625 \r\nQ 44.1875 33.984375 37.640625 27.21875 \r\nQ 31.109375 20.453125 19.1875 8.296875 \r\nz\r\n\" id=\"DejaVuSans-50\"/>\r\n       <path d=\"M 10.796875 72.90625 \r\nL 49.515625 72.90625 \r\nL 49.515625 64.59375 \r\nL 19.828125 64.59375 \r\nL 19.828125 46.734375 \r\nQ 21.96875 47.46875 24.109375 47.828125 \r\nQ 26.265625 48.1875 28.421875 48.1875 \r\nQ 40.625 48.1875 47.75 41.5 \r\nQ 54.890625 34.8125 54.890625 23.390625 \r\nQ 54.890625 11.625 47.5625 5.09375 \r\nQ 40.234375 -1.421875 26.90625 -1.421875 \r\nQ 22.3125 -1.421875 17.546875 -0.640625 \r\nQ 12.796875 0.140625 7.71875 1.703125 \r\nL 7.71875 11.625 \r\nQ 12.109375 9.234375 16.796875 8.0625 \r\nQ 21.484375 6.890625 26.703125 6.890625 \r\nQ 35.15625 6.890625 40.078125 11.328125 \r\nQ 45.015625 15.765625 45.015625 23.390625 \r\nQ 45.015625 31 40.078125 35.4375 \r\nQ 35.15625 39.890625 26.703125 39.890625 \r\nQ 22.75 39.890625 18.8125 39.015625 \r\nQ 14.890625 38.140625 10.796875 36.28125 \r\nz\r\n\" id=\"DejaVuSans-53\"/>\r\n       <path d=\"M 31.78125 66.40625 \r\nQ 24.171875 66.40625 20.328125 58.90625 \r\nQ 16.5 51.421875 16.5 36.375 \r\nQ 16.5 21.390625 20.328125 13.890625 \r\nQ 24.171875 6.390625 31.78125 6.390625 \r\nQ 39.453125 6.390625 43.28125 13.890625 \r\nQ 47.125 21.390625 47.125 36.375 \r\nQ 47.125 51.421875 43.28125 58.90625 \r\nQ 39.453125 66.40625 31.78125 66.40625 \r\nz\r\nM 31.78125 74.21875 \r\nQ 44.046875 74.21875 50.515625 64.515625 \r\nQ 56.984375 54.828125 56.984375 36.375 \r\nQ 56.984375 17.96875 50.515625 8.265625 \r\nQ 44.046875 -1.421875 31.78125 -1.421875 \r\nQ 19.53125 -1.421875 13.0625 8.265625 \r\nQ 6.59375 17.96875 6.59375 36.375 \r\nQ 6.59375 54.828125 13.0625 64.515625 \r\nQ 19.53125 74.21875 31.78125 74.21875 \r\nz\r\n\" id=\"DejaVuSans-48\"/>\r\n      </defs>\r\n      <g transform=\"translate(313.756278 210.414342)scale(0.1 -0.1)\">\r\n       <use xlink:href=\"#DejaVuSans-50\"/>\r\n       <use x=\"63.623047\" xlink:href=\"#DejaVuSans-53\"/>\r\n       <use x=\"127.246094\" xlink:href=\"#DejaVuSans-48\"/>\r\n       <use x=\"190.869141\" xlink:href=\"#DejaVuSans-48\"/>\r\n      </g>\r\n     </g>\r\n    </g>\r\n    <g id=\"ytick_4\">\r\n     <g id=\"line2d_6\">\r\n      <g>\r\n       <use style=\"stroke:#000000;stroke-width:0.8;\" x=\"306.756278\" xlink:href=\"#mb35c6a2c24\" y=\"182.892412\"/>\r\n      </g>\r\n     </g>\r\n     <g id=\"text_9\">\r\n      <!-- 5000 -->\r\n      <g transform=\"translate(313.756278 186.691631)scale(0.1 -0.1)\">\r\n       <use xlink:href=\"#DejaVuSans-53\"/>\r\n       <use x=\"63.623047\" xlink:href=\"#DejaVuSans-48\"/>\r\n       <use x=\"127.246094\" xlink:href=\"#DejaVuSans-48\"/>\r\n       <use x=\"190.869141\" xlink:href=\"#DejaVuSans-48\"/>\r\n      </g>\r\n     </g>\r\n    </g>\r\n    <g id=\"ytick_5\">\r\n     <g id=\"line2d_7\">\r\n      <g>\r\n       <use style=\"stroke:#000000;stroke-width:0.8;\" x=\"306.756278\" xlink:href=\"#mb35c6a2c24\" y=\"159.169701\"/>\r\n      </g>\r\n     </g>\r\n     <g id=\"text_10\">\r\n      <!-- 7500 -->\r\n      <defs>\r\n       <path d=\"M 8.203125 72.90625 \r\nL 55.078125 72.90625 \r\nL 55.078125 68.703125 \r\nL 28.609375 0 \r\nL 18.3125 0 \r\nL 43.21875 64.59375 \r\nL 8.203125 64.59375 \r\nz\r\n\" id=\"DejaVuSans-55\"/>\r\n      </defs>\r\n      <g transform=\"translate(313.756278 162.96892)scale(0.1 -0.1)\">\r\n       <use xlink:href=\"#DejaVuSans-55\"/>\r\n       <use x=\"63.623047\" xlink:href=\"#DejaVuSans-53\"/>\r\n       <use x=\"127.246094\" xlink:href=\"#DejaVuSans-48\"/>\r\n       <use x=\"190.869141\" xlink:href=\"#DejaVuSans-48\"/>\r\n      </g>\r\n     </g>\r\n    </g>\r\n    <g id=\"ytick_6\">\r\n     <g id=\"line2d_8\">\r\n      <g>\r\n       <use style=\"stroke:#000000;stroke-width:0.8;\" x=\"306.756278\" xlink:href=\"#mb35c6a2c24\" y=\"135.44699\"/>\r\n      </g>\r\n     </g>\r\n     <g id=\"text_11\">\r\n      <!-- 10000 -->\r\n      <defs>\r\n       <path d=\"M 12.40625 8.296875 \r\nL 28.515625 8.296875 \r\nL 28.515625 63.921875 \r\nL 10.984375 60.40625 \r\nL 10.984375 69.390625 \r\nL 28.421875 72.90625 \r\nL 38.28125 72.90625 \r\nL 38.28125 8.296875 \r\nL 54.390625 8.296875 \r\nL 54.390625 0 \r\nL 12.40625 0 \r\nz\r\n\" id=\"DejaVuSans-49\"/>\r\n      </defs>\r\n      <g transform=\"translate(313.756278 139.246209)scale(0.1 -0.1)\">\r\n       <use xlink:href=\"#DejaVuSans-49\"/>\r\n       <use x=\"63.623047\" xlink:href=\"#DejaVuSans-48\"/>\r\n       <use x=\"127.246094\" xlink:href=\"#DejaVuSans-48\"/>\r\n       <use x=\"190.869141\" xlink:href=\"#DejaVuSans-48\"/>\r\n       <use x=\"254.492188\" xlink:href=\"#DejaVuSans-48\"/>\r\n      </g>\r\n     </g>\r\n    </g>\r\n    <g id=\"ytick_7\">\r\n     <g id=\"line2d_9\">\r\n      <g>\r\n       <use style=\"stroke:#000000;stroke-width:0.8;\" x=\"306.756278\" xlink:href=\"#mb35c6a2c24\" y=\"111.724279\"/>\r\n      </g>\r\n     </g>\r\n     <g id=\"text_12\">\r\n      <!-- 12500 -->\r\n      <g transform=\"translate(313.756278 115.523498)scale(0.1 -0.1)\">\r\n       <use xlink:href=\"#DejaVuSans-49\"/>\r\n       <use x=\"63.623047\" xlink:href=\"#DejaVuSans-50\"/>\r\n       <use x=\"127.246094\" xlink:href=\"#DejaVuSans-53\"/>\r\n       <use x=\"190.869141\" xlink:href=\"#DejaVuSans-48\"/>\r\n       <use x=\"254.492188\" xlink:href=\"#DejaVuSans-48\"/>\r\n      </g>\r\n     </g>\r\n    </g>\r\n    <g id=\"ytick_8\">\r\n     <g id=\"line2d_10\">\r\n      <g>\r\n       <use style=\"stroke:#000000;stroke-width:0.8;\" x=\"306.756278\" xlink:href=\"#mb35c6a2c24\" y=\"88.001568\"/>\r\n      </g>\r\n     </g>\r\n     <g id=\"text_13\">\r\n      <!-- 15000 -->\r\n      <g transform=\"translate(313.756278 91.800786)scale(0.1 -0.1)\">\r\n       <use xlink:href=\"#DejaVuSans-49\"/>\r\n       <use x=\"63.623047\" xlink:href=\"#DejaVuSans-53\"/>\r\n       <use x=\"127.246094\" xlink:href=\"#DejaVuSans-48\"/>\r\n       <use x=\"190.869141\" xlink:href=\"#DejaVuSans-48\"/>\r\n       <use x=\"254.492188\" xlink:href=\"#DejaVuSans-48\"/>\r\n      </g>\r\n     </g>\r\n    </g>\r\n    <g id=\"ytick_9\">\r\n     <g id=\"line2d_11\">\r\n      <g>\r\n       <use style=\"stroke:#000000;stroke-width:0.8;\" x=\"306.756278\" xlink:href=\"#mb35c6a2c24\" y=\"64.278856\"/>\r\n      </g>\r\n     </g>\r\n     <g id=\"text_14\">\r\n      <!-- 17500 -->\r\n      <g transform=\"translate(313.756278 68.078075)scale(0.1 -0.1)\">\r\n       <use xlink:href=\"#DejaVuSans-49\"/>\r\n       <use x=\"63.623047\" xlink:href=\"#DejaVuSans-55\"/>\r\n       <use x=\"127.246094\" xlink:href=\"#DejaVuSans-53\"/>\r\n       <use x=\"190.869141\" xlink:href=\"#DejaVuSans-48\"/>\r\n       <use x=\"254.492188\" xlink:href=\"#DejaVuSans-48\"/>\r\n      </g>\r\n     </g>\r\n    </g>\r\n    <g id=\"ytick_10\">\r\n     <g id=\"line2d_12\">\r\n      <g>\r\n       <use style=\"stroke:#000000;stroke-width:0.8;\" x=\"306.756278\" xlink:href=\"#mb35c6a2c24\" y=\"40.556145\"/>\r\n      </g>\r\n     </g>\r\n     <g id=\"text_15\">\r\n      <!-- 20000 -->\r\n      <g transform=\"translate(313.756278 44.355364)scale(0.1 -0.1)\">\r\n       <use xlink:href=\"#DejaVuSans-50\"/>\r\n       <use x=\"63.623047\" xlink:href=\"#DejaVuSans-48\"/>\r\n       <use x=\"127.246094\" xlink:href=\"#DejaVuSans-48\"/>\r\n       <use x=\"190.869141\" xlink:href=\"#DejaVuSans-48\"/>\r\n       <use x=\"254.492188\" xlink:href=\"#DejaVuSans-48\"/>\r\n      </g>\r\n     </g>\r\n    </g>\r\n   </g>\r\n   <g id=\"patch_8\">\r\n    <path d=\"M 296.362884 230.186009 \r\nL 296.362884 229.374025 \r\nL 296.362884 23.130109 \r\nL 296.362884 22.318125 \r\nL 306.756278 22.318125 \r\nL 306.756278 23.130109 \r\nL 306.756278 229.374025 \r\nL 306.756278 230.186009 \r\nz\r\n\" style=\"fill:none;stroke:#000000;stroke-linejoin:miter;stroke-width:0.8;\"/>\r\n   </g>\r\n  </g>\r\n </g>\r\n <defs>\r\n  <clipPath id=\"p5ff69bd311\">\r\n   <rect height=\"207.867884\" width=\"207.867884\" x=\"67.975\" y=\"22.318125\"/>\r\n  </clipPath>\r\n  <clipPath id=\"p378f5f4aac\">\r\n   <rect height=\"207.867884\" width=\"10.393394\" x=\"296.362884\" y=\"22.318125\"/>\r\n  </clipPath>\r\n </defs>\r\n</svg>\r\n",
      "image/png": "[encoded data removed]"
     },
     "metadata": {
      "needs_background": "light"
     }
    },
    {
     "output_type": "stream",
     "name": "stdout",
     "text": [
      "              precision    recall  f1-score   support\n\n           0       1.00      1.00      1.00     21938\n           1       1.00      1.00      1.00     14459\n\n    accuracy                           1.00     36397\n   macro avg       1.00      1.00      1.00     36397\nweighted avg       1.00      1.00      1.00     36397\n\n"
     ]
    }
   ],
   "source": [
    "# Compute confusion matrix\n",
    "cm = confusion_matrix(y_true, pred)\n",
    "print(cm)\n",
    "\n",
    "\n",
    "print('Plotting confusion matrix')\n",
    "\n",
    "plt.figure()\n",
    "plot_confusion_matrix(cm, ['normal','intruder'])\n",
    "plt.show()\n",
    "\n",
    "print(classification_report(y_true, pred))"
   ]
  },
  {
   "cell_type": "code",
   "execution_count": null,
   "metadata": {},
   "outputs": [],
   "source": []
  }
 ],
 "metadata": {
  "kernelspec": {
   "display_name": "Python 3",
   "language": "python",
   "name": "python3"
  },
  "language_info": {
   "codemirror_mode": {
    "name": "ipython",
    "version": 3
   },
   "file_extension": ".py",
   "mimetype": "text/x-python",
   "name": "python",
   "nbconvert_exporter": "python",
   "pygments_lexer": "ipython3",
   "version": "3.7.6-final"
  }
 },
 "nbformat": 4,
 "nbformat_minor": 4
}